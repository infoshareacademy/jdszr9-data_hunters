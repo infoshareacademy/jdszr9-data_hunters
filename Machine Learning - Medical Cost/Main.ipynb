{
 "cells": [
  {
   "cell_type": "code",
   "execution_count": 249,
   "metadata": {},
   "outputs": [],
   "source": [
    "import pandas as pd\n",
    "import numpy as np\n",
    "import sklearn as skl\n",
    "import seaborn as sns\n",
    "import matplotlib.pyplot as plt\n",
    "from sklearn.model_selection import train_test_split\n",
    "\n",
    "from sklearn import tree\n",
    "\n",
    "from sklearn.ensemble import VotingRegressor\n",
    "\n",
    "from sklearn.model_selection import cross_val_score\n",
    "from sklearn.linear_model import LinearRegression\n",
    "from sklearn.ensemble import RandomForestRegressor\n",
    "from sklearn.ensemble import VotingRegressor\n",
    "from sklearn.neighbors import KNeighborsRegressor\n",
    "from sklearn.tree import DecisionTreeRegressor\n",
    "\n",
    "from sklearn.ensemble import ExtraTreesRegressor\n",
    "from sklearn.model_selection import train_test_split\n",
    "\n",
    "\n",
    "from sklearn.metrics import mean_absolute_percentage_error, mean_squared_log_error, mean_squared_error, mean_absolute_error, r2_score\n",
    "\n",
    "\n",
    "from numpy import mean\n",
    "from numpy import std\n",
    "from sklearn.preprocessing import StandardScaler\n",
    "\n",
    "from sklearn.preprocessing import power_transform\n",
    "from sklearn.preprocessing import PowerTransformer"
   ]
  },
  {
   "cell_type": "code",
   "execution_count": 114,
   "metadata": {},
   "outputs": [],
   "source": [
    "def symmetric_mean_absolute_percentage_error(a, f):\n",
    "    return 1/len(a) * np.sum(2 * np.abs(f-a) / (np.abs(a) + np.abs(f))*100)\n",
    "\n"
   ]
  },
  {
   "attachments": {},
   "cell_type": "markdown",
   "metadata": {},
   "source": [
    "Preprocessing"
   ]
  },
  {
   "cell_type": "code",
   "execution_count": 164,
   "metadata": {},
   "outputs": [],
   "source": [
    "def remove_outliers(df, target_name):\n",
    "    y=df[target_name]\n",
    "    data_mean, data_std = mean(y), std(y)\n",
    "# identify outliers\n",
    "    cut_off = data_std * 3\n",
    "    lower, upper = data_mean - cut_off, data_mean + cut_off\n",
    "# identify outliers\n",
    "\n",
    "    df_ = df[df[target_name].between(lower, upper)]\n",
    "    return df_\n",
    "\n",
    "def scaler(df):\n",
    "    ss=StandardScaler()\n",
    "    df_=ss.fit_transform(df)\n",
    "    return df_\n",
    "\n"
   ]
  },
  {
   "cell_type": "code",
   "execution_count": 228,
   "metadata": {},
   "outputs": [],
   "source": [
    "def create_metrics_tag():\n",
    "    return {'Specific': [], 'MAPE': [], 'SMAPE':[],  'MSLE': [], 'MSE':[], 'MAE':[], 'R2':[]}\n",
    "\n",
    "def get_metrics(a, p, name):\n",
    "\n",
    "    metrics = {'MAPE' : mean_absolute_percentage_error, 'SMAPE': symmetric_mean_absolute_percentage_error, 'MSLE': mean_squared_log_error, 'MSE': mean_squared_error, 'MAE': mean_absolute_error, 'R2':r2_score}\n",
    "    tags=create_metrics_tag()\n",
    "\n",
    "    for metric in metrics.keys():\n",
    "        func=metrics[metric]\n",
    "        val =func(a, p)\n",
    "        tags[metric].append(val)\n",
    "\n",
    "    tags['Specific'].append(name)\n",
    "    df_ = pd.DataFrame(tags)\n",
    "    return df_\n"
   ]
  },
  {
   "cell_type": "code",
   "execution_count": 220,
   "metadata": {},
   "outputs": [],
   "source": [
    "def preprocess(df,scal= False, dropN= None ):\n",
    "\n",
    "    df_=df.copy()\n",
    "    if(dropN):\n",
    "        df_=df_.drop(dropN, axis=1)\n",
    "    df_=pd.get_dummies(df, drop_first= True)\n",
    "    x=df_.copy().drop('charges', axis=1)\n",
    "    y=df_['charges'].copy()\n",
    "    if(scal):\n",
    "        x = scaler(x)\n",
    "    return x, y"
   ]
  },
  {
   "cell_type": "code",
   "execution_count": 216,
   "metadata": {},
   "outputs": [
    {
     "data": {
      "text/plain": [
       "Index(['age', 'sex', 'bmi', 'children', 'smoker', 'region', 'charges'], dtype='object')"
      ]
     },
     "execution_count": 216,
     "metadata": {},
     "output_type": "execute_result"
    }
   ],
   "source": [
    "\n"
   ]
  },
  {
   "attachments": {},
   "cell_type": "markdown",
   "metadata": {},
   "source": [
    "Model evaluation"
   ]
  },
  {
   "cell_type": "code",
   "execution_count": 283,
   "metadata": {},
   "outputs": [],
   "source": [
    "df = pd.read_csv('archive\\insurance.csv')\n",
    "\n",
    "X,y=preprocess(df, scal=False)\n",
    "\n",
    "X_train, X_test, y_train, y_test = train_test_split(X, y, test_size= 0.2, random_state= 42)\n",
    "\n"
   ]
  },
  {
   "cell_type": "code",
   "execution_count": 277,
   "metadata": {},
   "outputs": [],
   "source": [
    "def getModelDIc(name, model, powtransform= False, drop=None):\n",
    "    dict={'model': model, 'powerTransform': powtransform, 'drop': drop}\n",
    "    return dict"
   ]
  },
  {
   "attachments": {},
   "cell_type": "markdown",
   "metadata": {},
   "source": [
    "Szukamy optymalnych parametrów poprzez kros - walidacje"
   ]
  },
  {
   "cell_type": "code",
   "execution_count": 289,
   "metadata": {},
   "outputs": [
    {
     "data": {
      "text/html": [
       "<div>\n",
       "<style scoped>\n",
       "    .dataframe tbody tr th:only-of-type {\n",
       "        vertical-align: middle;\n",
       "    }\n",
       "\n",
       "    .dataframe tbody tr th {\n",
       "        vertical-align: top;\n",
       "    }\n",
       "\n",
       "    .dataframe thead th {\n",
       "        text-align: right;\n",
       "    }\n",
       "</style>\n",
       "<table border=\"1\" class=\"dataframe\">\n",
       "  <thead>\n",
       "    <tr style=\"text-align: right;\">\n",
       "      <th></th>\n",
       "      <th>Specific</th>\n",
       "      <th>MAPE</th>\n",
       "      <th>SMAPE</th>\n",
       "      <th>MSLE</th>\n",
       "      <th>MSE</th>\n",
       "      <th>MAE</th>\n",
       "      <th>R2</th>\n",
       "    </tr>\n",
       "  </thead>\n",
       "  <tbody>\n",
       "    <tr>\n",
       "      <th>0</th>\n",
       "      <td>Liniowy</td>\n",
       "      <td>0.462645</td>\n",
       "      <td>40.022008</td>\n",
       "      <td>1.141394</td>\n",
       "      <td>3.354208e+07</td>\n",
       "      <td>4170.045013</td>\n",
       "      <td>0.783946</td>\n",
       "    </tr>\n",
       "    <tr>\n",
       "      <th>1</th>\n",
       "      <td>Liniowy Transformed</td>\n",
       "      <td>0.273935</td>\n",
       "      <td>25.713600</td>\n",
       "      <td>0.175509</td>\n",
       "      <td>6.105960e+07</td>\n",
       "      <td>3888.443159</td>\n",
       "      <td>0.606698</td>\n",
       "    </tr>\n",
       "    <tr>\n",
       "      <th>2</th>\n",
       "      <td>Liniowy Drop region</td>\n",
       "      <td>0.281726</td>\n",
       "      <td>26.251528</td>\n",
       "      <td>0.181316</td>\n",
       "      <td>6.157757e+07</td>\n",
       "      <td>3968.144439</td>\n",
       "      <td>0.603362</td>\n",
       "    </tr>\n",
       "    <tr>\n",
       "      <th>3</th>\n",
       "      <td>Drzewo</td>\n",
       "      <td>0.331120</td>\n",
       "      <td>28.100890</td>\n",
       "      <td>0.178438</td>\n",
       "      <td>2.109348e+07</td>\n",
       "      <td>2697.765431</td>\n",
       "      <td>0.864131</td>\n",
       "    </tr>\n",
       "    <tr>\n",
       "      <th>4</th>\n",
       "      <td>Drzewo Transformed</td>\n",
       "      <td>0.210674</td>\n",
       "      <td>21.251869</td>\n",
       "      <td>0.134321</td>\n",
       "      <td>2.094784e+07</td>\n",
       "      <td>2332.941205</td>\n",
       "      <td>0.865069</td>\n",
       "    </tr>\n",
       "    <tr>\n",
       "      <th>5</th>\n",
       "      <td>RandomForest</td>\n",
       "      <td>0.325019</td>\n",
       "      <td>28.042662</td>\n",
       "      <td>0.170493</td>\n",
       "      <td>1.987119e+07</td>\n",
       "      <td>2589.725811</td>\n",
       "      <td>0.872004</td>\n",
       "    </tr>\n",
       "    <tr>\n",
       "      <th>6</th>\n",
       "      <td>RandomForest drop region</td>\n",
       "      <td>0.330340</td>\n",
       "      <td>28.330881</td>\n",
       "      <td>0.172966</td>\n",
       "      <td>1.965678e+07</td>\n",
       "      <td>2587.589704</td>\n",
       "      <td>0.873385</td>\n",
       "    </tr>\n",
       "    <tr>\n",
       "      <th>7</th>\n",
       "      <td>RandomForest drop region transformed</td>\n",
       "      <td>0.185196</td>\n",
       "      <td>19.129588</td>\n",
       "      <td>0.128695</td>\n",
       "      <td>1.963956e+07</td>\n",
       "      <td>2120.566572</td>\n",
       "      <td>0.873496</td>\n",
       "    </tr>\n",
       "  </tbody>\n",
       "</table>\n",
       "</div>"
      ],
      "text/plain": [
       "                               Specific      MAPE      SMAPE      MSLE  \\\n",
       "0                              Liniowy   0.462645  40.022008  1.141394   \n",
       "1                   Liniowy Transformed  0.273935  25.713600  0.175509   \n",
       "2                  Liniowy Drop region   0.281726  26.251528  0.181316   \n",
       "3                                Drzewo  0.331120  28.100890  0.178438   \n",
       "4                    Drzewo Transformed  0.210674  21.251869  0.134321   \n",
       "5                          RandomForest  0.325019  28.042662  0.170493   \n",
       "6              RandomForest drop region  0.330340  28.330881  0.172966   \n",
       "7  RandomForest drop region transformed  0.185196  19.129588  0.128695   \n",
       "\n",
       "            MSE          MAE        R2  \n",
       "0  3.354208e+07  4170.045013  0.783946  \n",
       "1  6.105960e+07  3888.443159  0.606698  \n",
       "2  6.157757e+07  3968.144439  0.603362  \n",
       "3  2.109348e+07  2697.765431  0.864131  \n",
       "4  2.094784e+07  2332.941205  0.865069  \n",
       "5  1.987119e+07  2589.725811  0.872004  \n",
       "6  1.965678e+07  2587.589704  0.873385  \n",
       "7  1.963956e+07  2120.566572  0.873496  "
      ]
     },
     "execution_count": 289,
     "metadata": {},
     "output_type": "execute_result"
    }
   ],
   "source": [
    "metrics = pd.DataFrame(create_metrics_tag())\n",
    "\n",
    "models={}\n",
    "\n",
    "name='Liniowy '\n",
    "model=LinearRegression()\n",
    "modelDict= getModelDIc(name, model)\n",
    "models[name]=modelDict\n",
    "\n",
    "\n",
    "name='Liniowy Transformed'\n",
    "model=LinearRegression()\n",
    "modelDict= getModelDIc(name, model, powtransform=True)\n",
    "models[name]=modelDict\n",
    "\n",
    "name='Liniowy Drop region '\n",
    "model=LinearRegression()\n",
    "modelDict= getModelDIc(name, model, powtransform=True, drop=['region_northwest','region_southeast', 'region_southwest'])\n",
    "models[name]=modelDict\n",
    "\n",
    "\n",
    "name='Drzewo'\n",
    "model=DecisionTreeRegressor(max_depth=4)\n",
    "modelDict= getModelDIc(name, model)\n",
    "models[name]=modelDict\n",
    "\n",
    "name='Drzewo Transformed'\n",
    "model=DecisionTreeRegressor(max_depth=4)\n",
    "modelDict= getModelDIc(name, model, powtransform=True)\n",
    "models[name]=modelDict\n",
    "\n",
    "\n",
    "name='RandomForest'\n",
    "model=RandomForestRegressor(n_estimators=100, max_depth=4)\n",
    "modelDict= getModelDIc(name, model)\n",
    "models[name]=modelDict\n",
    "\n",
    "name='RandomForest drop region'\n",
    "model=RandomForestRegressor(n_estimators=100, max_depth=4, )\n",
    "modelDict= getModelDIc(name, model, drop=['region_northwest','region_southeast', 'region_southwest'])\n",
    "models[name]=modelDict\n",
    "\n",
    "name='RandomForest drop region transformed'\n",
    "model=RandomForestRegressor(n_estimators=100, max_depth=4, )\n",
    "modelDict= getModelDIc(name, model, drop=['region_northwest','region_southeast', 'region_southwest'], powtransform= True)\n",
    "models[name]=modelDict\n",
    "\n",
    "for modelN in models:\n",
    "    X_train_, X_test_, y_train_, y_test_= X_train, X_test, y_train, y_test\n",
    "    model=models[modelN]['model']\n",
    "    if(models[modelN]['powerTransform']):\n",
    "        #power = PowerTransformer()\n",
    "        #y_train_=power.fit_transform(np.expand_dims(y_train, axis=1))\n",
    "        y_train_=np.log1p(y_train_)\n",
    "    if(models[modelN]['drop']):\n",
    "        X_train_=X_train_.drop(models[modelN]['drop'], axis=1)\n",
    "        X_test_=X_test_.drop(models[modelN]['drop'], axis=1)\n",
    "\n",
    "    model.fit(X_train_, y_train_)\n",
    "\n",
    "    y_pred= model.predict(X_test_)\n",
    "    y_pred=np.where(y_pred>0, y_pred,0 )\n",
    "    if(models[modelN]['powerTransform']):\n",
    "        #y_pred=power.inverse_transform(y_pred.reshape(-1,1))\n",
    "        #y_pred=np.squeeze(y_pred)\n",
    "        y_pred=np.expm1(y_pred)\n",
    "    \n",
    "    metric=get_metrics(y_test_, y_pred, modelN)\n",
    "    metrics = pd.concat([metrics, metric]).reset_index(drop=True)\n",
    "metrics\n"
   ]
  },
  {
   "cell_type": "code",
   "execution_count": 275,
   "metadata": {},
   "outputs": [
    {
     "data": {
      "text/plain": [
       "Index(['age', 'bmi', 'children', 'sex_male', 'smoker_yes', 'region_northwest',\n",
       "       'region_southeast', 'region_southwest'],\n",
       "      dtype='object')"
      ]
     },
     "execution_count": 275,
     "metadata": {},
     "output_type": "execute_result"
    }
   ],
   "source": [
    "x_train.columns"
   ]
  },
  {
   "cell_type": "code",
   "execution_count": 41,
   "metadata": {},
   "outputs": [
    {
     "data": {
      "text/plain": [
       "<matplotlib.legend.Legend at 0x242a56aba90>"
      ]
     },
     "execution_count": 41,
     "metadata": {},
     "output_type": "execute_result"
    },
    {
     "data": {
      "image/png": "[encoded data removed]",
      "text/plain": [
       "<Figure size 640x480 with 1 Axes>"
      ]
     },
     "metadata": {},
     "output_type": "display_data"
    }
   ],
   "source": [
    "\n",
    "\n",
    "\n",
    "plt.scatter(range(len(y_pred)), y_pred, label = 'Prognoza modelu')\n",
    "plt.scatter(range(len(y_pred)), y_test, label = 'Wartości')\n",
    "plt.legend()"
   ]
  }
 ],
 "metadata": {
  "kernelspec": {
   "display_name": "base",
   "language": "python",
   "name": "python3"
  },
  "language_info": {
   "codemirror_mode": {
    "name": "ipython",
    "version": 3
   },
   "file_extension": ".py",
   "mimetype": "text/x-python",
   "name": "python",
   "nbconvert_exporter": "python",
   "pygments_lexer": "ipython3",
   "version": "3.8.15"
  },
  "orig_nbformat": 4
 },
 "nbformat": 4,
 "nbformat_minor": 2
}
