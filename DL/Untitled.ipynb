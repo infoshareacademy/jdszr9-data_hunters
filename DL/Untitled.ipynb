{
 "cells": [
  {
   "cell_type": "code",
   "execution_count": 44,
   "id": "d9d3e698",
   "metadata": {},
   "outputs": [],
   "source": [
    "import tensorflow as tf\n",
    "import numpy as np\n",
    "import matplotlib.pyplot as plt\n",
    "from sklearn.metrics import classification_report, confusion_matrix\n",
    "import cv2\n",
    "from sklearn.preprocessing import OneHotEncoder\n",
    "from tensorflow.keras import layers\n",
    "import datetime\n",
    "from tensorflow.keras.preprocessing.image import ImageDataGenerator\n",
    "from tensorflow.keras.layers import Dense, Dropout,SeparableConv2D, Activation\n",
    "import pandas as pd\n",
    "import os\n",
    "import random\n",
    "import shutil \n",
    "from seaborn import heatmap"
   ]
  },
  {
   "cell_type": "code",
   "execution_count": 45,
   "id": "ed974b70",
   "metadata": {},
   "outputs": [],
   "source": [
    "categories=(\"A\", \"B\", \"C\", \"D\", \"E\", \"F\")\n",
    "NUM_OUTPUTS= len(categories)\n",
    "IMG_SIZE=(224, 224)\n",
    "input_shape = IMG_SIZE + (3,)"
   ]
  },
  {
   "cell_type": "code",
   "execution_count": 12,
   "id": "b1e2e4f7",
   "metadata": {},
   "outputs": [],
   "source": [
    "def split_to_train_test(folder):\n",
    "    \n",
    "    train_dir = folder+\"train\"\n",
    "    test_dir = folder+\"test\"\n",
    "    os.mkdir(test_dir)\n",
    "    os.mkdir(train_dir)\n",
    "    for name in categories:\n",
    "        photo_dir = folder+\"Apple \"+name\n",
    "        \n",
    "        photos = os.listdir(photo_dir)\n",
    "        \n",
    "        os.mkdir(os.path.join(train_dir, name))\n",
    "        os.mkdir(os.path.join(test_dir, name))\n",
    "        \n",
    "        for idx, photo in enumerate(photos):\n",
    "\n",
    "            if random.random() < 0.9:\n",
    "                dest_dir = train_dir\n",
    "            else:\n",
    "                dest_dir = test_dir\n",
    "\n",
    "            src_path = os.path.join(photo_dir, photo)\n",
    "           \n",
    "            dest_path = os.path.join(dest_dir, name, photo)\n",
    "         \n",
    "            shutil.copy(src_path, dest_path)\n"
   ]
  },
  {
   "cell_type": "code",
   "execution_count": 46,
   "id": "f732d86f",
   "metadata": {},
   "outputs": [],
   "source": [
    "def load_random_photo(folder):\n",
    "    files = os.listdir(folder)\n",
    "    random_file = random.choice(files)\n",
    "    \n",
    "    img = cv2.imread(folder+\"/\"+random_file)\n",
    "    img = transform_photo(img)\n",
    "    class_img=random_file[0]\n",
    "    return img, class_img\n",
    "\n",
    "def transform_photo(img):\n",
    "    new_img = cv2.cvtColor(img, cv2.COLOR_BGR2RGB)\n",
    "    new_img = cv2.resize(new_img, (224, 224))\n",
    "    return new_img\n",
    "\n",
    "def show_photo(img, category):\n",
    "    print(\"Kategoria zdjęcia: \" +category)\n",
    "    fig = plt.figure(figsize=(20,10))\n",
    "    plt.imshow(img)\n",
    "    plt.show()\n",
    "    \n",
    "\n",
    "                     \n"
   ]
  },
  {
   "cell_type": "code",
   "execution_count": 47,
   "id": "195dc541",
   "metadata": {},
   "outputs": [],
   "source": [
    "def plot_history(history):\n",
    "    fig, ax = plt.subplots(nrows=2,ncols=2, figsize=(20,10))\n",
    "    # wyświetlamy wykresy\n",
    "    ax[0][0].plot(history.history[\"loss\"])\n",
    "    ax[0][1].plot(history.history[\"accuracy\"])\n",
    "    ax[1][0].plot(history.history[\"val_loss\"])\n",
    "    ax[1][1].plot(history.history[\"val_accuracy\"])\n",
    "    #nazywamy zdjęcia\n",
    "    ax[0][0].set_title(\"train loss\")\n",
    "    ax[0][1].set_title(\"train accuracy\")\n",
    "    ax[1][0].set_title(\"validation loss\")\n",
    "    ax[1][1].set_title(\"validation accuracy\")\n",
    "    plt.show()"
   ]
  },
  {
   "cell_type": "code",
   "execution_count": 48,
   "id": "48b03e19",
   "metadata": {},
   "outputs": [],
   "source": [
    "def create_generators(folder, batch_size= 56, n_val = 0.0):\n",
    "    train_data_dir = os.path.join(folder, 'train')\n",
    "\n",
    "    test_data_dir = os.path.join(folder, 'test')\n",
    "\n",
    "\n",
    "    # tworzymy obiekt ImageDataGenerator dla danych treningowych\n",
    "    train_datagen = tf.keras.preprocessing.image.ImageDataGenerator(rescale=1./255, validation_split= 0.1)\n",
    "\n",
    "    # tworzymy obiekt ImageDataGenerator dla danych testowych\n",
    "    test_datagen =  tf.keras.preprocessing.image.ImageDataGenerator(rescale=1./255)\n",
    "\n",
    "    # generator danych treningowych\n",
    "    train_generator = train_datagen.flow_from_directory(\n",
    "            train_data_dir,\n",
    "            target_size=(224, 224),\n",
    "            batch_size=batch_size,\n",
    "            class_mode='categorical',\n",
    "            subset =\"training\", \n",
    "            shuffle=True\n",
    "    )\n",
    "\n",
    "    val_generator = train_datagen.flow_from_directory(\n",
    "            train_data_dir,\n",
    "            target_size=(224, 224),\n",
    "            batch_size=batch_size,\n",
    "            class_mode='categorical',\n",
    "            subset =\"validation\", \n",
    "            shuffle=False\n",
    "    )\n",
    "\n",
    "    # generator danych testowych\n",
    "    test_generator = test_datagen.flow_from_directory(\n",
    "            test_data_dir,\n",
    "            target_size=(224, 224),\n",
    "            batch_size=batch_size,\n",
    "            class_mode='categorical', \n",
    "            shuffle=False\n",
    "    )\n",
    "    return train_generator, val_generator, test_generator\n"
   ]
  },
  {
   "cell_type": "code",
   "execution_count": 49,
   "id": "043e6545",
   "metadata": {},
   "outputs": [],
   "source": [
    "def create_model():\n",
    "    shape_img = input_shape\n",
    "    \n",
    "    model = tf.keras.Sequential()\n",
    "    \n",
    "    model.add(layers.Conv2D(filters=32, kernel_size=(3,3),input_shape=shape_img, activation='relu', padding = 'same'))\n",
    "    model.add(layers.MaxPooling2D(pool_size=(2, 2)))\n",
    "\n",
    "    model.add(layers.Conv2D(filters=64, kernel_size=(3,3),input_shape=shape_img, activation='relu', padding = 'same'))\n",
    "    model.add(layers.MaxPooling2D(pool_size=(2, 2)))\n",
    "\n",
    "    model.add(layers.Conv2D(filters=64, kernel_size=(3,3),input_shape=shape_img, activation='relu', padding = 'same'))\n",
    "    model.add(layers.MaxPooling2D(pool_size=(2, 2)))\n",
    "\n",
    "    model.add(layers.Conv2D(filters=64, kernel_size=(3,3),input_shape=shape_img, activation='relu', padding = 'same'))\n",
    "    model.add(layers.MaxPooling2D(pool_size=(2, 2)))\n",
    "    \n",
    "    model.add(layers.Conv2D(filters=64, kernel_size=(3,3),input_shape=shape_img, activation='relu', padding = 'same'))\n",
    "    model.add(layers.MaxPooling2D(pool_size=(2, 2)))\n",
    "    \n",
    "    model.add(layers.Flatten())\n",
    "\n",
    "    model.add(layers.Dense(224))\n",
    "    model.add(layers.Activation('relu'))\n",
    "    model.add(layers.Dropout(0.5))\n",
    "\n",
    "    model.add(layers.Dense(NUM_OUTPUTS))\n",
    "    model.add(layers.Activation('softmax'))\n",
    "\n",
    "    model.compile(loss='categorical_crossentropy',optimizer='adam',metrics=['accuracy'])\n",
    "\n",
    "    return model\n",
    "\n",
    "def load_model(name):\n",
    "    return tf.keras.models.load_model(name)"
   ]
  },
  {
   "cell_type": "markdown",
   "id": "98cf2515",
   "metadata": {},
   "source": [
    "PROGRAM"
   ]
  },
  {
   "cell_type": "code",
   "execution_count": 17,
   "id": "8e330cdf",
   "metadata": {},
   "outputs": [],
   "source": [
    "split_to_train_test(\"data/\")"
   ]
  },
  {
   "cell_type": "code",
   "execution_count": 51,
   "id": "e7807102",
   "metadata": {},
   "outputs": [],
   "source": [
    "BATCH_SIZE = 56\n",
    "N_VALIDATION = 0.1\n"
   ]
  },
  {
   "cell_type": "code",
   "execution_count": 52,
   "id": "43c34bd2",
   "metadata": {},
   "outputs": [
    {
     "name": "stdout",
     "output_type": "stream",
     "text": [
      "Found 4711 images belonging to 6 classes.\n",
      "Found 521 images belonging to 6 classes.\n",
      "Found 581 images belonging to 6 classes.\n"
     ]
    }
   ],
   "source": [
    "train_generator, val_generator, test_generator = create_generators(\"data\", batch_size= BATCH_SIZE, n_val = N_VALIDATION)"
   ]
  },
  {
   "cell_type": "code",
   "execution_count": 14,
   "id": "0504b283",
   "metadata": {},
   "outputs": [
    {
     "data": {
      "text/plain": [
       "<keras.preprocessing.image.DirectoryIterator at 0x173937148e0>"
      ]
     },
     "execution_count": 14,
     "metadata": {},
     "output_type": "execute_result"
    }
   ],
   "source": [
    "train_generator"
   ]
  },
  {
   "cell_type": "markdown",
   "id": "5ceb55cc",
   "metadata": {},
   "source": [
    "Function to split data to usefull folders"
   ]
  },
  {
   "cell_type": "code",
   "execution_count": 53,
   "id": "518778a0",
   "metadata": {},
   "outputs": [
    {
     "name": "stdout",
     "output_type": "stream",
     "text": [
      "Model: \"sequential\"\n",
      "_________________________________________________________________\n",
      " Layer (type)                Output Shape              Param #   \n",
      "=================================================================\n",
      " conv2d (Conv2D)             (None, 224, 224, 32)      896       \n",
      "                                                                 \n",
      " max_pooling2d (MaxPooling2D  (None, 112, 112, 32)     0         \n",
      " )                                                               \n",
      "                                                                 \n",
      " conv2d_1 (Conv2D)           (None, 112, 112, 64)      18496     \n",
      "                                                                 \n",
      " max_pooling2d_1 (MaxPooling  (None, 56, 56, 64)       0         \n",
      " 2D)                                                             \n",
      "                                                                 \n",
      " conv2d_2 (Conv2D)           (None, 56, 56, 64)        36928     \n",
      "                                                                 \n",
      " max_pooling2d_2 (MaxPooling  (None, 28, 28, 64)       0         \n",
      " 2D)                                                             \n",
      "                                                                 \n",
      " conv2d_3 (Conv2D)           (None, 28, 28, 64)        36928     \n",
      "                                                                 \n",
      " max_pooling2d_3 (MaxPooling  (None, 14, 14, 64)       0         \n",
      " 2D)                                                             \n",
      "                                                                 \n",
      " conv2d_4 (Conv2D)           (None, 14, 14, 64)        36928     \n",
      "                                                                 \n",
      " max_pooling2d_4 (MaxPooling  (None, 7, 7, 64)         0         \n",
      " 2D)                                                             \n",
      "                                                                 \n",
      " flatten (Flatten)           (None, 3136)              0         \n",
      "                                                                 \n",
      " dense_14 (Dense)            (None, 224)               702688    \n",
      "                                                                 \n",
      " activation (Activation)     (None, 224)               0         \n",
      "                                                                 \n",
      " dropout_12 (Dropout)        (None, 224)               0         \n",
      "                                                                 \n",
      " dense_15 (Dense)            (None, 6)                 1350      \n",
      "                                                                 \n",
      " activation_1 (Activation)   (None, 6)                 0         \n",
      "                                                                 \n",
      "=================================================================\n",
      "Total params: 834,214\n",
      "Trainable params: 834,214\n",
      "Non-trainable params: 0\n",
      "_________________________________________________________________\n"
     ]
    }
   ],
   "source": [
    "model = create_model()\n",
    "model.summary()"
   ]
  },
  {
   "cell_type": "code",
   "execution_count": 9,
   "id": "bc68071a",
   "metadata": {},
   "outputs": [],
   "source": [
    "model=load_model('models/my_model.keras')\n",
    "    "
   ]
  },
  {
   "cell_type": "code",
   "execution_count": 54,
   "id": "c6c600cd",
   "metadata": {},
   "outputs": [
    {
     "name": "stdout",
     "output_type": "stream",
     "text": [
      "Epoch 1/10\n",
      "85/85 [==============================] - 150s 2s/step - loss: 0.8549 - accuracy: 0.6795 - val_loss: 1.4385 - val_accuracy: 0.4990\n",
      "Epoch 2/10\n",
      "85/85 [==============================] - 163s 2s/step - loss: 0.0962 - accuracy: 0.9665 - val_loss: 0.8384 - val_accuracy: 0.8157\n",
      "Epoch 3/10\n",
      "85/85 [==============================] - 167s 2s/step - loss: 0.0302 - accuracy: 0.9911 - val_loss: 1.1792 - val_accuracy: 0.8157\n",
      "Epoch 4/10\n",
      "85/85 [==============================] - 169s 2s/step - loss: 0.0261 - accuracy: 0.9924 - val_loss: 0.7370 - val_accuracy: 0.8004\n",
      "Epoch 5/10\n",
      "85/85 [==============================] - 168s 2s/step - loss: 0.0215 - accuracy: 0.9938 - val_loss: 1.1240 - val_accuracy: 0.8100\n",
      "Epoch 6/10\n",
      "85/85 [==============================] - 168s 2s/step - loss: 0.0170 - accuracy: 0.9943 - val_loss: 0.9501 - val_accuracy: 0.8311\n",
      "Epoch 7/10\n",
      "85/85 [==============================] - 169s 2s/step - loss: 0.0086 - accuracy: 0.9977 - val_loss: 1.3643 - val_accuracy: 0.7908\n",
      "Epoch 8/10\n",
      "85/85 [==============================] - 169s 2s/step - loss: 0.0051 - accuracy: 0.9981 - val_loss: 2.5642 - val_accuracy: 0.7869\n",
      "Epoch 9/10\n",
      "85/85 [==============================] - 169s 2s/step - loss: 9.1426e-04 - accuracy: 0.9998 - val_loss: 3.0528 - val_accuracy: 0.8061\n",
      "Epoch 10/10\n",
      "85/85 [==============================] - 169s 2s/step - loss: 0.0062 - accuracy: 0.9979 - val_loss: 2.2653 - val_accuracy: 0.7908\n"
     ]
    }
   ],
   "source": [
    "history = model.fit(train_generator,\n",
    "    epochs=10,\n",
    "    validation_data=val_generator)"
   ]
  },
  {
   "cell_type": "code",
   "execution_count": 55,
   "id": "234a8b4d",
   "metadata": {},
   "outputs": [
    {
     "data": {
      "image/png": "[encoded data removed]",
      "text/plain": [
       "<Figure size 432x288 with 1 Axes>"
      ]
     },
     "metadata": {
      "needs_background": "light"
     },
     "output_type": "display_data"
    }
   ],
   "source": [
    "acc = []\n",
    "val_acc = []\n",
    "for i in range(len(history.history[\"accuracy\"])):\n",
    "    acc.append( history.history[\"accuracy\"][i])\n",
    "    val_acc.append( history.history[\"val_accuracy\"][i])\n",
    "hist_df = pd.DataFrame({\"# Epoch\": [e for e in range(1,len(acc)+1)],\"Accuracy\": acc, \"Val_accuracy\": val_acc})\n",
    "hist_df.plot(x = \"# Epoch\", y = [\"Accuracy\",\"Val_accuracy\"])\n",
    "plt.title(\"Accuracy vs Validation Accuracy\")\n",
    "plt.show()"
   ]
  },
  {
   "cell_type": "code",
   "execution_count": 56,
   "id": "349b4f57",
   "metadata": {},
   "outputs": [
    {
     "data": {
      "image/png": "[encoded data removed]",
      "text/plain": [
       "<Figure size 1440x720 with 4 Axes>"
      ]
     },
     "metadata": {
      "needs_background": "light"
     },
     "output_type": "display_data"
    }
   ],
   "source": [
    "plot_history(history)"
   ]
  },
  {
   "cell_type": "code",
   "execution_count": 57,
   "id": "3688d54e",
   "metadata": {},
   "outputs": [],
   "source": [
    "def get_y_pred(model, test_generator):  \n",
    "    \n",
    "    predictions = model.predict_generator(test_generator, steps=len(test_generator), verbose=1)\n",
    "    return np.argmax(predictions, axis=1)"
   ]
  },
  {
   "cell_type": "code",
   "execution_count": 58,
   "id": "a0d4e001",
   "metadata": {},
   "outputs": [
    {
     "name": "stderr",
     "output_type": "stream",
     "text": [
      "C:\\Users\\Paulina\\AppData\\Local\\Temp\\ipykernel_2804\\1673630469.py:3: UserWarning: `Model.predict_generator` is deprecated and will be removed in a future version. Please use `Model.predict`, which supports generators.\n",
      "  predictions = model.predict_generator(test_generator, steps=len(test_generator), verbose=1)\n"
     ]
    },
    {
     "name": "stdout",
     "output_type": "stream",
     "text": [
      "11/11 [==============================] - 6s 504ms/step\n",
      "              precision    recall  f1-score   support\n",
      "\n",
      "           A       0.97      1.00      0.99        33\n",
      "           B       0.91      1.00      0.95        68\n",
      "           C       1.00      0.94      0.97       114\n",
      "           D       1.00      1.00      1.00       109\n",
      "           E       1.00      0.98      0.99        63\n",
      "           F       1.00      1.00      1.00       194\n",
      "\n",
      "    accuracy                           0.99       581\n",
      "   macro avg       0.98      0.99      0.98       581\n",
      "weighted avg       0.99      0.99      0.99       581\n",
      "\n"
     ]
    }
   ],
   "source": [
    "y_pred= get_y_pred(model, test_generator)\n",
    "y_true = test_generator.classes\n",
    "\n",
    "print(classification_report(y_true, y_pred, target_names=categories))\n"
   ]
  },
  {
   "cell_type": "code",
   "execution_count": 59,
   "id": "0f734d83",
   "metadata": {},
   "outputs": [
    {
     "data": {
      "text/plain": [
       "Text(33.0, 0.5, 'True labels')"
      ]
     },
     "execution_count": 59,
     "metadata": {},
     "output_type": "execute_result"
    },
    {
     "data": {
      "image/png": "[encoded data removed]",
      "text/plain": [
       "<Figure size 432x288 with 2 Axes>"
      ]
     },
     "metadata": {
      "needs_background": "light"
     },
     "output_type": "display_data"
    }
   ],
   "source": [
    "cm = confusion_matrix(y_true, y_pred)\n",
    "\n",
    "ax = heatmap(cm, annot=True, fmt=\"d\", cmap=\"Blues\", xticklabels=categories, yticklabels=categories)\n",
    "ax.set_xlabel('Predicted labels')\n",
    "ax.set_ylabel('True labels')"
   ]
  },
  {
   "cell_type": "code",
   "execution_count": 272,
   "id": "5dfa3ab1",
   "metadata": {},
   "outputs": [
    {
     "name": "stderr",
     "output_type": "stream",
     "text": [
      "C:\\Users\\arkad\\anaconda3\\lib\\site-packages\\keras\\src\\engine\\training.py:3000: UserWarning: You are saving your model as an HDF5 file via `model.save()`. This file format is considered legacy. We recommend using instead the native Keras format, e.g. `model.save('my_model.keras')`.\n",
      "  saving_api.save_model(\n"
     ]
    }
   ],
   "source": [
    "model.save(\"models/apple_classifier.h5\")\n",
    "\n"
   ]
  },
  {
   "cell_type": "code",
   "execution_count": 273,
   "id": "15ca1a32",
   "metadata": {},
   "outputs": [],
   "source": [
    "model.save('models/my_model.keras')"
   ]
  },
  {
   "cell_type": "code",
   "execution_count": 22,
   "id": "3d37e266",
   "metadata": {},
   "outputs": [
    {
     "data": {
      "text/plain": [
       "(224, 224, 3)"
      ]
     },
     "execution_count": 22,
     "metadata": {},
     "output_type": "execute_result"
    }
   ],
   "source": [
    "input_shape"
   ]
  },
  {
   "cell_type": "code",
   "execution_count": 60,
   "id": "a6e3c7fc",
   "metadata": {
    "scrolled": false
   },
   "outputs": [
    {
     "name": "stdout",
     "output_type": "stream",
     "text": [
      "Model: \"model_12\"\n",
      "_________________________________________________________________\n",
      " Layer (type)                Output Shape              Param #   \n",
      "=================================================================\n",
      " input_25 (InputLayer)       [(None, 224, 224, 3)]     0         \n",
      "                                                                 \n",
      " mobilenetv2_1.00_224 (Funct  (None, 7, 7, 1280)       2257984   \n",
      " ional)                                                          \n",
      "                                                                 \n",
      " global_average_pooling2d_10  (None, 1280)             0         \n",
      "  (GlobalAveragePooling2D)                                       \n",
      "                                                                 \n",
      " dropout_13 (Dropout)        (None, 1280)              0         \n",
      "                                                                 \n",
      " dense_16 (Dense)            (None, 6)                 7686      \n",
      "                                                                 \n",
      "=================================================================\n",
      "Total params: 2,265,670\n",
      "Trainable params: 7,686\n",
      "Non-trainable params: 2,257,984\n",
      "_________________________________________________________________\n"
     ]
    }
   ],
   "source": [
    "inputLayer = tf.keras.Input(shape=(input_shape))\n",
    "# bierzemy wytrenowany wcześniej model\n",
    "base_model = tf.keras.applications.mobilenet_v2.MobileNetV2(\n",
    "    weights='imagenet',  # wczytaj z nauczonymi wagami\n",
    "    input_shape=input_shape,\n",
    "    include_top=False)   # nie dołączaj ostatniej warstwy k\\\n",
    "\n",
    "# nie chcemy aby nauczony już feature extractor się uczył\n",
    "base_model.trainable = False\\\n",
    "\n",
    "# dodajemy ostatnie warstwy klasyfikatora\n",
    "x = base_model(inputLayer, training=False)\n",
    "x = layers.GlobalAveragePooling2D()(x)\n",
    "x = layers.Dropout(0.2)(x)\n",
    "output = layers.Dense(6, activation=\"softmax\")(x)\n",
    "\n",
    "# zamykamy w kerasowy model\n",
    "model_2 = tf.keras.Model(inputLayer, output)\n",
    "model_2.summary()\n",
    "\n",
    "# kompilujemy całość\n",
    "model_2.compile(loss='categorical_crossentropy',optimizer='adam',metrics=['accuracy'])\n"
   ]
  },
  {
   "cell_type": "code",
   "execution_count": 61,
   "id": "5f5e028f",
   "metadata": {},
   "outputs": [
    {
     "name": "stdout",
     "output_type": "stream",
     "text": [
      "Epoch 1/10\n",
      "85/85 [==============================] - 72s 818ms/step - loss: 0.5145 - accuracy: 0.8336 - val_loss: 0.2458 - val_accuracy: 0.9155\n",
      "Epoch 2/10\n",
      "85/85 [==============================] - 75s 886ms/step - loss: 0.1097 - accuracy: 0.9813 - val_loss: 0.1826 - val_accuracy: 0.9367\n",
      "Epoch 3/10\n",
      "85/85 [==============================] - 80s 940ms/step - loss: 0.0615 - accuracy: 0.9919 - val_loss: 0.1753 - val_accuracy: 0.9347\n",
      "Epoch 4/10\n",
      "85/85 [==============================] - 83s 981ms/step - loss: 0.0443 - accuracy: 0.9949 - val_loss: 0.1698 - val_accuracy: 0.9328\n",
      "Epoch 5/10\n",
      "85/85 [==============================] - 84s 988ms/step - loss: 0.0339 - accuracy: 0.9955 - val_loss: 0.1468 - val_accuracy: 0.9405\n",
      "Epoch 6/10\n",
      "85/85 [==============================] - 87s 1s/step - loss: 0.0267 - accuracy: 0.9966 - val_loss: 0.1417 - val_accuracy: 0.9482\n",
      "Epoch 7/10\n",
      "85/85 [==============================] - 85s 998ms/step - loss: 0.0234 - accuracy: 0.9966 - val_loss: 0.1443 - val_accuracy: 0.9443\n",
      "Epoch 8/10\n",
      "85/85 [==============================] - 91s 1s/step - loss: 0.0208 - accuracy: 0.9968 - val_loss: 0.1347 - val_accuracy: 0.9463\n",
      "Epoch 9/10\n",
      "85/85 [==============================] - 89s 1s/step - loss: 0.0165 - accuracy: 0.9983 - val_loss: 0.1254 - val_accuracy: 0.9559\n",
      "Epoch 10/10\n",
      "85/85 [==============================] - 88s 1s/step - loss: 0.0135 - accuracy: 0.9992 - val_loss: 0.1205 - val_accuracy: 0.9655\n"
     ]
    }
   ],
   "source": [
    "history2 = model_2.fit(train_generator,\n",
    "    epochs=10,\n",
    "    validation_data=val_generator)"
   ]
  },
  {
   "cell_type": "code",
   "execution_count": 66,
   "id": "7fa7b501",
   "metadata": {},
   "outputs": [
    {
     "data": {
      "image/png": "[encoded data removed]",
      "text/plain": [
       "<Figure size 432x288 with 1 Axes>"
      ]
     },
     "metadata": {
      "needs_background": "light"
     },
     "output_type": "display_data"
    }
   ],
   "source": [
    "acc = []\n",
    "val_acc = []\n",
    "for i in range(len(history2.history[\"accuracy\"])):\n",
    "    acc.append( history2.history[\"accuracy\"][i])\n",
    "    val_acc.append( history2.history[\"val_accuracy\"][i])\n",
    "hist_df = pd.DataFrame({\"# Epoch\": [e for e in range(1,len(acc)+1)],\"Accuracy\": acc, \"Val_accuracy\": val_acc})\n",
    "hist_df.plot(x = \"# Epoch\", y = [\"Accuracy\",\"Val_accuracy\"])\n",
    "plt.title(\"Accuracy vs Validation Accuracy\")\n",
    "plt.show()"
   ]
  },
  {
   "cell_type": "code",
   "execution_count": 62,
   "id": "54f0d908",
   "metadata": {},
   "outputs": [
    {
     "name": "stderr",
     "output_type": "stream",
     "text": [
      "C:\\Users\\Paulina\\AppData\\Local\\Temp\\ipykernel_2804\\1673630469.py:3: UserWarning: `Model.predict_generator` is deprecated and will be removed in a future version. Please use `Model.predict`, which supports generators.\n",
      "  predictions = model.predict_generator(test_generator, steps=len(test_generator), verbose=1)\n"
     ]
    },
    {
     "name": "stdout",
     "output_type": "stream",
     "text": [
      "11/11 [==============================] - 8s 677ms/step\n",
      "              precision    recall  f1-score   support\n",
      "\n",
      "           A       1.00      1.00      1.00        33\n",
      "           B       1.00      1.00      1.00        68\n",
      "           C       1.00      1.00      1.00       114\n",
      "           D       0.99      0.98      0.99       109\n",
      "           E       1.00      0.98      0.99        63\n",
      "           F       0.99      1.00      0.99       194\n",
      "\n",
      "    accuracy                           0.99       581\n",
      "   macro avg       1.00      0.99      1.00       581\n",
      "weighted avg       0.99      0.99      0.99       581\n",
      "\n"
     ]
    }
   ],
   "source": [
    "y_pred= get_y_pred(model_2, test_generator)\n",
    "y_true = test_generator.classes\n",
    "\n",
    "print(classification_report(y_true, y_pred, target_names=categories))"
   ]
  },
  {
   "cell_type": "code",
   "execution_count": 63,
   "id": "07562a07",
   "metadata": {},
   "outputs": [
    {
     "data": {
      "text/plain": [
       "Text(33.0, 0.5, 'True labels')"
      ]
     },
     "execution_count": 63,
     "metadata": {},
     "output_type": "execute_result"
    },
    {
     "data": {
      "image/png": "[encoded data removed]",
      "text/plain": [
       "<Figure size 432x288 with 2 Axes>"
      ]
     },
     "metadata": {
      "needs_background": "light"
     },
     "output_type": "display_data"
    }
   ],
   "source": [
    "cm = confusion_matrix(y_true, y_pred)\n",
    "\n",
    "ax = heatmap(cm, annot=True, fmt=\"d\", cmap=\"Blues\", xticklabels=categories, yticklabels=categories)\n",
    "ax.set_xlabel('Predicted labels')\n",
    "ax.set_ylabel('True labels')"
   ]
  }
 ],
 "metadata": {
  "kernelspec": {
   "display_name": "Python 3 (ipykernel)",
   "language": "python",
   "name": "python3"
  },
  "language_info": {
   "codemirror_mode": {
    "name": "ipython",
    "version": 3
   },
   "file_extension": ".py",
   "mimetype": "text/x-python",
   "name": "python",
   "nbconvert_exporter": "python",
   "pygments_lexer": "ipython3",
   "version": "3.9.12"
  }
 },
 "nbformat": 4,
 "nbformat_minor": 5
}
