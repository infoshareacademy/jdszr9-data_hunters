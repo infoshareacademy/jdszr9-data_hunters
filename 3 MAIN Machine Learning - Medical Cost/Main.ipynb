{
 "cells": [
  {
   "cell_type": "code",
   "execution_count": 3,
   "metadata": {},
   "outputs": [
    {
     "name": "stdout",
     "output_type": "stream",
     "text": [
      "Collecting category_encoders\n",
      "  Downloading category_encoders-2.6.0-py2.py3-none-any.whl (81 kB)\n",
      "     ---------------------------------------- 81.2/81.2 kB 2.3 MB/s eta 0:00:00\n",
      "Requirement already satisfied: scipy>=1.0.0 in c:\\users\\arkad\\anaconda3\\lib\\site-packages (from category_encoders) (1.10.0)\n",
      "Requirement already satisfied: statsmodels>=0.9.0 in c:\\users\\arkad\\anaconda3\\lib\\site-packages (from category_encoders) (0.13.5)\n",
      "Requirement already satisfied: pandas>=1.0.5 in c:\\users\\arkad\\anaconda3\\lib\\site-packages (from category_encoders) (1.5.3)\n",
      "Requirement already satisfied: numpy>=1.14.0 in c:\\users\\arkad\\anaconda3\\lib\\site-packages (from category_encoders) (1.23.5)\n",
      "Requirement already satisfied: scikit-learn>=0.20.0 in c:\\users\\arkad\\anaconda3\\lib\\site-packages (from category_encoders) (1.2.1)\n",
      "Requirement already satisfied: patsy>=0.5.1 in c:\\users\\arkad\\anaconda3\\lib\\site-packages (from category_encoders) (0.5.3)\n",
      "Requirement already satisfied: python-dateutil>=2.8.1 in c:\\users\\arkad\\anaconda3\\lib\\site-packages (from pandas>=1.0.5->category_encoders) (2.8.2)\n",
      "Requirement already satisfied: pytz>=2020.1 in c:\\users\\arkad\\anaconda3\\lib\\site-packages (from pandas>=1.0.5->category_encoders) (2022.7)\n",
      "Requirement already satisfied: six in c:\\users\\arkad\\anaconda3\\lib\\site-packages (from patsy>=0.5.1->category_encoders) (1.16.0)\n",
      "Requirement already satisfied: threadpoolctl>=2.0.0 in c:\\users\\arkad\\anaconda3\\lib\\site-packages (from scikit-learn>=0.20.0->category_encoders) (2.2.0)\n",
      "Requirement already satisfied: joblib>=1.1.1 in c:\\users\\arkad\\anaconda3\\lib\\site-packages (from scikit-learn>=0.20.0->category_encoders) (1.1.1)\n",
      "Requirement already satisfied: packaging>=21.3 in c:\\users\\arkad\\anaconda3\\lib\\site-packages (from statsmodels>=0.9.0->category_encoders) (22.0)\n",
      "Installing collected packages: category_encoders\n",
      "Successfully installed category_encoders-2.6.0\n",
      "Collecting xgboost\n",
      "  Downloading xgboost-1.7.5-py3-none-win_amd64.whl (70.9 MB)\n",
      "     ---------------------------------------- 70.9/70.9 MB 2.1 MB/s eta 0:00:00\n",
      "Requirement already satisfied: scipy in c:\\users\\arkad\\anaconda3\\lib\\site-packages (from xgboost) (1.10.0)\n",
      "Requirement already satisfied: numpy in c:\\users\\arkad\\anaconda3\\lib\\site-packages (from xgboost) (1.23.5)\n",
      "Installing collected packages: xgboost\n",
      "Successfully installed xgboost-1.7.5\n",
      "Collecting hyperopt\n",
      "  Using cached hyperopt-0.2.7-py2.py3-none-any.whl (1.6 MB)\n",
      "Requirement already satisfied: future in c:\\users\\arkad\\anaconda3\\lib\\site-packages (from hyperopt) (0.18.3)\n",
      "Requirement already satisfied: networkx>=2.2 in c:\\users\\arkad\\anaconda3\\lib\\site-packages (from hyperopt) (2.8.4)\n",
      "Requirement already satisfied: numpy in c:\\users\\arkad\\anaconda3\\lib\\site-packages (from hyperopt) (1.23.5)\n",
      "Requirement already satisfied: tqdm in c:\\users\\arkad\\anaconda3\\lib\\site-packages (from hyperopt) (4.64.1)\n",
      "Requirement already satisfied: cloudpickle in c:\\users\\arkad\\anaconda3\\lib\\site-packages (from hyperopt) (2.0.0)\n",
      "Requirement already satisfied: scipy in c:\\users\\arkad\\anaconda3\\lib\\site-packages (from hyperopt) (1.10.0)\n",
      "Requirement already satisfied: six in c:\\users\\arkad\\anaconda3\\lib\\site-packages (from hyperopt) (1.16.0)\n",
      "Collecting py4j\n",
      "  Using cached py4j-0.10.9.7-py2.py3-none-any.whl (200 kB)\n",
      "Requirement already satisfied: colorama in c:\\users\\arkad\\anaconda3\\lib\\site-packages (from tqdm->hyperopt) (0.4.6)\n",
      "Installing collected packages: py4j, hyperopt\n",
      "Successfully installed hyperopt-0.2.7 py4j-0.10.9.7\n"
     ]
    }
   ],
   "source": [
    "!pip install --upgrade category_encoders\n",
    "!pip install xgboost\n",
    "!pip install hyperopt\n",
    "\n"
   ]
  },
  {
   "cell_type": "code",
   "execution_count": 2,
   "metadata": {},
   "outputs": [
    {
     "name": "stdout",
     "output_type": "stream",
     "text": [
      "Name: xgboost\n",
      "Version: 1.7.5\n",
      "Summary: XGBoost Python Package\n",
      "Home-page: https://github.com/dmlc/xgboost\n",
      "Author: \n",
      "Author-email: \n",
      "License: Apache-2.0\n",
      "Location: c:\\users\\arkad\\anaconda3\\lib\\site-packages\n",
      "Requires: numpy, scipy\n",
      "Required-by: \n"
     ]
    }
   ],
   "source": [
    "!pip show xgboost\n"
   ]
  },
  {
   "cell_type": "code",
   "execution_count": 3,
   "metadata": {},
   "outputs": [],
   "source": [
    "import pandas as pd\n",
    "import numpy as np\n",
    "import sklearn as skl\n",
    "import seaborn as sns\n",
    "import matplotlib.pyplot as plt\n",
    "from sklearn.model_selection import train_test_split\n",
    "import pickle\n",
    "from sklearn import tree\n",
    "\n",
    "from sklearn.ensemble import VotingRegressor\n",
    "\n",
    "from sklearn.model_selection import cross_val_score\n",
    "\n",
    "from sklearn.linear_model import LinearRegression\n",
    "from sklearn.ensemble import RandomForestRegressor\n",
    "from sklearn.ensemble import VotingRegressor\n",
    "from sklearn.neighbors import KNeighborsRegressor\n",
    "from sklearn.tree import DecisionTreeRegressor\n",
    "\n",
    "from sklearn.ensemble import ExtraTreesRegressor\n",
    "from sklearn.model_selection import train_test_split\n",
    "\n",
    "\n",
    "from sklearn.metrics import mean_absolute_percentage_error, mean_squared_log_error, mean_squared_error, mean_absolute_error, r2_score\n",
    "import category_encoders as ce\n",
    "from sklearn.pipeline import Pipeline\n",
    "from numpy import mean\n",
    "from numpy import std\n",
    "from sklearn.preprocessing import StandardScaler\n",
    "\n",
    "from sklearn.preprocessing import power_transform\n",
    "from sklearn.preprocessing import PowerTransformer\n",
    "\n",
    "from xgboost import XGBRegressor\n",
    "from sklearn.model_selection import StratifiedKFold\n",
    "from sklearn.preprocessing import LabelEncoder\n",
    "from hyperopt import tpe, STATUS_OK, Trials, hp, fmin, STATUS_OK, space_eval\n",
    "\n",
    "from sklearn.model_selection import RandomizedSearchCV\n",
    "import hyperopt\n",
    "from hyperopt import fmin, tpe, hp, STATUS_OK, Trials\n",
    "from sklearn.model_selection import cross_val_score\n",
    "from hyperopt import hp, fmin, tpe\n",
    "from hyperopt.pyll.base import scope\n",
    "import xgboost as xgb\n",
    "from sklearn.compose import ColumnTransformer\n",
    "from sklearn.preprocessing import StandardScaler"
   ]
  },
  {
   "cell_type": "code",
   "execution_count": 4,
   "metadata": {},
   "outputs": [],
   "source": [
    "def symmetric_mean_absolute_percentage_error(a, f):\n",
    "    return 1/len(a) * np.sum(2 * np.abs(f-a) / (np.abs(a) + np.abs(f))*100)\n"
   ]
  },
  {
   "cell_type": "markdown",
   "metadata": {},
   "source": [
    "Preprocessing"
   ]
  },
  {
   "cell_type": "code",
   "execution_count": 5,
   "metadata": {},
   "outputs": [],
   "source": [
    "def remove_outliers(df, target_name):\n",
    "    y=df[target_name]\n",
    "    data_mean, data_std = mean(y), std(y)\n",
    "# identify outliers\n",
    "    cut_off = data_std * 3\n",
    "    lower, upper = data_mean - cut_off, data_mean + cut_off\n",
    "# identify outliers\n",
    "\n",
    "    df_ = df[df[target_name].between(lower, upper)]\n",
    "    return df_\n",
    "\n",
    "def scaler(df):\n",
    "    ss=StandardScaler()\n",
    "    df_=ss.fit_transform(df)\n",
    "    return df_\n",
    "\n"
   ]
  },
  {
   "cell_type": "code",
   "execution_count": 6,
   "metadata": {},
   "outputs": [],
   "source": [
    "def create_metrics_tag():\n",
    "    return {'Specific': [], 'MAPE': [], 'SMAPE':[],  'MSLE': [], 'MSE':[], 'MAE':[], 'R2':[]}\n",
    "\n",
    "def get_metrics(a, p, name):\n",
    "\n",
    "    metrics = {'MAPE' : mean_absolute_percentage_error, 'SMAPE': symmetric_mean_absolute_percentage_error, 'MSLE': mean_squared_log_error, 'MSE': mean_squared_error, 'MAE': mean_absolute_error, 'R2':r2_score}\n",
    "    tags=create_metrics_tag()\n",
    "\n",
    "    for metric in metrics.keys():\n",
    "        func=metrics[metric]\n",
    "        val =func(a, p)\n",
    "        tags[metric].append(val)\n",
    "\n",
    "    tags['Specific'].append(name)\n",
    "    df_ = pd.DataFrame(tags)\n",
    "    return df_\n"
   ]
  },
  {
   "cell_type": "code",
   "execution_count": 7,
   "metadata": {},
   "outputs": [],
   "source": [
    "def handleColumns(dropCols= []):\n",
    "    CatColumns=['sex', 'smoker', 'region', 'weight', 'senility']\n",
    "    ValColumns=['bmi',  'multiplier', 'children', 'age']\n",
    "    catCols = [i for i in CatColumns if i not in dropCols]\n",
    "    valCols = [i for i in ValColumns if i not in dropCols]\n",
    "    return catCols, valCols\n",
    "\n",
    "def getPipe(model, dropCols= []):\n",
    "\n",
    "    catCols,valCols = handleColumns(dropCols)\n",
    "    encoder = ce.JamesSteinEncoder(cols=catCols)\n",
    "    ct = ColumnTransformer([\n",
    "        ('scaler', StandardScaler(), valCols+ catCols)\n",
    "    ], remainder='passthrough') \n",
    "\n",
    "    modelpipe = Pipeline([\n",
    "  ('encode_categorical', encoder),\n",
    "  ('transformer', ct),\n",
    "  ('classifier', model)\n",
    "  ])\n",
    "\n",
    "    return modelpipe"
   ]
  },
  {
   "cell_type": "code",
   "execution_count": 8,
   "metadata": {},
   "outputs": [],
   "source": [
    "def preprocess(df,scal= False, dropN= None ):\n",
    "\n",
    "    df_=df.copy()\n",
    "    if(dropN):\n",
    "        df_=df_.drop(dropN, axis=1)\n",
    "    df_['weight']= pd.cut(df_['bmi'], bins=[0, 18.5, 25, 30, 40 , float('Inf')], labels=['Underweight', 'Normal', 'Overweight', 'Obese', 'Ultra_obese '])\n",
    "    df_[df_['bmi']>35]\n",
    "    df_['senility']= pd.cut(df_['age'], bins=[0, 30, 50, 60,float('Inf')], labels=['Young_adults', 'Adults', 'Old_adults', 'Pensioners'])\n",
    "    df_['multiplier']= df_['age'] * df_['bmi']\n",
    "    x=df_.copy().drop('charges', axis=1)\n",
    "    y=df_['charges'].copy()\n",
    "    if(scal):\n",
    "        x = scaler(x)\n",
    "    return x, y"
   ]
  },
  {
   "cell_type": "markdown",
   "metadata": {},
   "source": [
    "Model evaluation"
   ]
  },
  {
   "cell_type": "markdown",
   "metadata": {},
   "source": [
    "\n",
    "- Removed outliers\n",
    "- No Missing Values\n",
    "- Power Transform on target\n",
    "\n",
    "### Feature Engineering:\n",
    "- 'weight': categorical BMI\n",
    "- 'senility': categorical Age\n",
    "- 'multiplier': age * bmi\n",
    "\n",
    "### Pipeline:\n",
    "1. Categorical values: JamesSteinEncoder\n",
    "2. Numerical values: StandardScaler\n",
    "3. Model"
   ]
  },
  {
   "cell_type": "code",
   "execution_count": 9,
   "metadata": {},
   "outputs": [],
   "source": [
    "df = pd.read_csv('archive\\insurance.csv')\n",
    "X,y=preprocess(df, scal=False)\n",
    "\n",
    "X_train, X_test, y_train, y_test = train_test_split(X, y, test_size= 0.2, random_state= 42)\n",
    "\n",
    "\n"
   ]
  },
  {
   "cell_type": "markdown",
   "metadata": {},
   "source": [
    "Szukamy optymalnych parametrów poprzez kros - walidacje"
   ]
  },
  {
   "cell_type": "code",
   "execution_count": 10,
   "metadata": {},
   "outputs": [],
   "source": [
    "\n",
    "def getModelDIc( model, dropCols = [] , powtransform= False):\n",
    "    \n",
    "\n",
    "  modelpipe = getPipe(model, dropCols)\n",
    "  \n",
    "  \n",
    "  return {'model': modelpipe, 'powerTransform': powtransform, 'drop': dropCols}\n",
    "\n"
   ]
  },
  {
   "cell_type": "code",
   "execution_count": 18,
   "metadata": {},
   "outputs": [
    {
     "data": {
      "text/plain": [
       "array(['northwest', 'northeast', 'southeast', 'southwest'], dtype=object)"
      ]
     },
     "execution_count": 18,
     "metadata": {},
     "output_type": "execute_result"
    }
   ],
   "source": [
    "X_train.region.unique()"
   ]
  },
  {
   "cell_type": "code",
   "execution_count": 11,
   "metadata": {},
   "outputs": [],
   "source": [
    "\n",
    "X_dummy = pd.get_dummies(X_train, drop_first= True)\n",
    "X_dummy= pd.get_dummies(X_test, drop_first= True)\n"
   ]
  },
  {
   "cell_type": "code",
   "execution_count": 11,
   "metadata": {},
   "outputs": [],
   "source": [
    "metrics = pd.DataFrame(create_metrics_tag())\n",
    "\n",
    "models={}\n",
    "\n",
    "name='Linear'\n",
    "model= LinearRegression()\n",
    "dropCols=[]\n",
    "models[name]=getModelDIc( model ,dropCols)\n",
    "\n",
    "\n",
    "name='Tree'\n",
    "model= DecisionTreeRegressor(max_depth=4)\n",
    "dropCols=['multiplier', 'region', 'weight', 'senility', 'sex']\n",
    "models[name]=getModelDIc( model, dropCols)\n",
    "\n",
    "\n",
    "name='RF RandomSearch'\n",
    "model= RandomForestRegressor(n_estimators= 1577,\n",
    " min_samples_split= 2,\n",
    " min_samples_leaf= 4,\n",
    " max_features='sqrt',\n",
    " max_depth = 10,\n",
    " bootstrap= True )\n",
    "dropCols=[]\n",
    "models[name]=getModelDIc( model, dropCols, True)\n",
    "\n",
    "\n",
    "\n",
    "name='RF HyperOpt'\n",
    "model= RandomForestRegressor(n_estimators = 1089, max_depth=29, min_samples_leaf=12, random_state=1, max_features=7)\n",
    "dropCols=[]\n",
    "models[name]=getModelDIc( model, dropCols, False)\n",
    "\n",
    "\n",
    "name='RF HyperOpt Tran'\n",
    "model= RandomForestRegressor(n_estimators = 1089, max_depth=29, min_samples_leaf=12, random_state=1, max_features=7)\n",
    "dropCols=[]\n",
    "models[name]=getModelDIc( model, dropCols, True)\n",
    "\n",
    "\n",
    "\n",
    "name='XGBRegressor HyperOpt'\n",
    "model = XGBRegressor(seed=0, learning_rate=  0.02754445567920848, max_depth= 3, n_estimators= 164)\n",
    "dropCols=[]\n",
    "models[name]=getModelDIc( model, dropCols, True)                    \n",
    "\n",
    "\n",
    "for modelN in models:\n",
    "\n",
    "    X_train_, X_test_, y_train_, y_test_= X_train, X_test, y_train, y_test\n",
    "    model=models[modelN]['model']\n",
    "    if(models[modelN]['powerTransform']):\n",
    "        y_train_=np.log1p(y_train_)\n",
    "    if(models[modelN]['drop']):\n",
    "        X_train_=X_train_.drop(models[modelN]['drop'], axis=1)\n",
    "        X_test_=X_test_.drop(models[modelN]['drop'], axis=1)\n",
    "    model.fit(X_train_, y_train_)\n",
    "\n",
    "    y_pred= model.predict(X_test_)\n",
    "    y_pred=np.where(y_pred>0, y_pred,0 )\n",
    "    if(models[modelN]['powerTransform']):\n",
    "        y_pred=np.expm1(y_pred)\n",
    "    \n",
    "    metric=get_metrics(y_test_, y_pred, modelN)\n",
    "    metrics = pd.concat([metrics, metric]).reset_index(drop=True)\n"
   ]
  },
  {
   "cell_type": "code",
   "execution_count": 12,
   "metadata": {},
   "outputs": [
    {
     "data": {
      "text/html": [
       "<style type=\"text/css\">\n",
       "#T_f1722_row4_col0, #T_f1722_row4_col1, #T_f1722_row4_col2, #T_f1722_row4_col3, #T_f1722_row4_col4, #T_f1722_row4_col5, #T_f1722_row4_col6, #T_f1722_row5_col0, #T_f1722_row5_col1, #T_f1722_row5_col2, #T_f1722_row5_col3, #T_f1722_row5_col4, #T_f1722_row5_col5, #T_f1722_row5_col6 {\n",
       "  background-color: green;\n",
       "}\n",
       "</style>\n",
       "<table id=\"T_f1722\">\n",
       "  <thead>\n",
       "    <tr>\n",
       "      <th class=\"blank level0\" >&nbsp;</th>\n",
       "      <th id=\"T_f1722_level0_col0\" class=\"col_heading level0 col0\" >Specific</th>\n",
       "      <th id=\"T_f1722_level0_col1\" class=\"col_heading level0 col1\" >MAPE</th>\n",
       "      <th id=\"T_f1722_level0_col2\" class=\"col_heading level0 col2\" >SMAPE</th>\n",
       "      <th id=\"T_f1722_level0_col3\" class=\"col_heading level0 col3\" >MSLE</th>\n",
       "      <th id=\"T_f1722_level0_col4\" class=\"col_heading level0 col4\" >MSE</th>\n",
       "      <th id=\"T_f1722_level0_col5\" class=\"col_heading level0 col5\" >MAE</th>\n",
       "      <th id=\"T_f1722_level0_col6\" class=\"col_heading level0 col6\" >R2</th>\n",
       "    </tr>\n",
       "  </thead>\n",
       "  <tbody>\n",
       "    <tr>\n",
       "      <th id=\"T_f1722_level0_row0\" class=\"row_heading level0 row0\" >0</th>\n",
       "      <td id=\"T_f1722_row0_col0\" class=\"data row0 col0\" >Linear</td>\n",
       "      <td id=\"T_f1722_row0_col1\" class=\"data row0 col1\" >0.529010</td>\n",
       "      <td id=\"T_f1722_row0_col2\" class=\"data row0 col2\" >44.638105</td>\n",
       "      <td id=\"T_f1722_row0_col3\" class=\"data row0 col3\" >1.485989</td>\n",
       "      <td id=\"T_f1722_row0_col4\" class=\"data row0 col4\" >34263203.272043</td>\n",
       "      <td id=\"T_f1722_row0_col5\" class=\"data row0 col5\" >4317.969150</td>\n",
       "      <td id=\"T_f1722_row0_col6\" class=\"data row0 col6\" >0.779301</td>\n",
       "    </tr>\n",
       "    <tr>\n",
       "      <th id=\"T_f1722_level0_row1\" class=\"row_heading level0 row1\" >1</th>\n",
       "      <td id=\"T_f1722_row1_col0\" class=\"data row1 col0\" >Tree</td>\n",
       "      <td id=\"T_f1722_row1_col1\" class=\"data row1 col1\" >0.331120</td>\n",
       "      <td id=\"T_f1722_row1_col2\" class=\"data row1 col2\" >28.100890</td>\n",
       "      <td id=\"T_f1722_row1_col3\" class=\"data row1 col3\" >0.178438</td>\n",
       "      <td id=\"T_f1722_row1_col4\" class=\"data row1 col4\" >21093484.004597</td>\n",
       "      <td id=\"T_f1722_row1_col5\" class=\"data row1 col5\" >2697.765431</td>\n",
       "      <td id=\"T_f1722_row1_col6\" class=\"data row1 col6\" >0.864131</td>\n",
       "    </tr>\n",
       "    <tr>\n",
       "      <th id=\"T_f1722_level0_row2\" class=\"row_heading level0 row2\" >2</th>\n",
       "      <td id=\"T_f1722_row2_col0\" class=\"data row2 col0\" >RF RandomSearch</td>\n",
       "      <td id=\"T_f1722_row2_col1\" class=\"data row2 col1\" >0.189027</td>\n",
       "      <td id=\"T_f1722_row2_col2\" class=\"data row2 col2\" >19.547119</td>\n",
       "      <td id=\"T_f1722_row2_col3\" class=\"data row2 col3\" >0.128497</td>\n",
       "      <td id=\"T_f1722_row2_col4\" class=\"data row2 col4\" >21324370.233214</td>\n",
       "      <td id=\"T_f1722_row2_col5\" class=\"data row2 col5\" >2274.451626</td>\n",
       "      <td id=\"T_f1722_row2_col6\" class=\"data row2 col6\" >0.862644</td>\n",
       "    </tr>\n",
       "    <tr>\n",
       "      <th id=\"T_f1722_level0_row3\" class=\"row_heading level0 row3\" >3</th>\n",
       "      <td id=\"T_f1722_row3_col0\" class=\"data row3 col0\" >RF HyperOpt</td>\n",
       "      <td id=\"T_f1722_row3_col1\" class=\"data row3 col1\" >0.306317</td>\n",
       "      <td id=\"T_f1722_row3_col2\" class=\"data row3 col2\" >26.661792</td>\n",
       "      <td id=\"T_f1722_row3_col3\" class=\"data row3 col3\" >0.166796</td>\n",
       "      <td id=\"T_f1722_row3_col4\" class=\"data row3 col4\" >18345302.622367</td>\n",
       "      <td id=\"T_f1722_row3_col5\" class=\"data row3 col5\" >2439.091618</td>\n",
       "      <td id=\"T_f1722_row3_col6\" class=\"data row3 col6\" >0.881833</td>\n",
       "    </tr>\n",
       "    <tr>\n",
       "      <th id=\"T_f1722_level0_row4\" class=\"row_heading level0 row4\" >4</th>\n",
       "      <td id=\"T_f1722_row4_col0\" class=\"data row4 col0\" >RF HyperOpt Tran</td>\n",
       "      <td id=\"T_f1722_row4_col1\" class=\"data row4 col1\" >0.166282</td>\n",
       "      <td id=\"T_f1722_row4_col2\" class=\"data row4 col2\" >17.653312</td>\n",
       "      <td id=\"T_f1722_row4_col3\" class=\"data row4 col3\" >0.122768</td>\n",
       "      <td id=\"T_f1722_row4_col4\" class=\"data row4 col4\" >18267912.438664</td>\n",
       "      <td id=\"T_f1722_row4_col5\" class=\"data row4 col5\" >1939.920439</td>\n",
       "      <td id=\"T_f1722_row4_col6\" class=\"data row4 col6\" >0.882331</td>\n",
       "    </tr>\n",
       "    <tr>\n",
       "      <th id=\"T_f1722_level0_row5\" class=\"row_heading level0 row5\" >5</th>\n",
       "      <td id=\"T_f1722_row5_col0\" class=\"data row5 col0\" >XGBRegressor HyperOpt</td>\n",
       "      <td id=\"T_f1722_row5_col1\" class=\"data row5 col1\" >0.157065</td>\n",
       "      <td id=\"T_f1722_row5_col2\" class=\"data row5 col2\" >17.637683</td>\n",
       "      <td id=\"T_f1722_row5_col3\" class=\"data row5 col3\" >0.130161</td>\n",
       "      <td id=\"T_f1722_row5_col4\" class=\"data row5 col4\" >26304959.959414</td>\n",
       "      <td id=\"T_f1722_row5_col5\" class=\"data row5 col5\" >2424.979979</td>\n",
       "      <td id=\"T_f1722_row5_col6\" class=\"data row5 col6\" >0.830562</td>\n",
       "    </tr>\n",
       "  </tbody>\n",
       "</table>\n"
      ],
      "text/plain": [
       "<pandas.io.formats.style.Styler at 0x1db2c5e2950>"
      ]
     },
     "metadata": {},
     "output_type": "display_data"
    }
   ],
   "source": [
    "color = (metrics.MAPE<0.17).map({True: 'background-color: green', False: ''})\n",
    "display(metrics.style.apply(lambda s: color))"
   ]
  },
  {
   "cell_type": "code",
   "execution_count": 13,
   "metadata": {},
   "outputs": [],
   "source": [
    "metricsDF= metrics.set_index('Specific')\n",
    "metricNames=metricsDF.columns\n",
    "modelNames=metricsDF.index"
   ]
  },
  {
   "cell_type": "code",
   "execution_count": 14,
   "metadata": {},
   "outputs": [
    {
     "data": {
      "image/png": "[encoded data removed]",
      "text/plain": [
       "<Figure size 1100x1100 with 6 Axes>"
      ]
     },
     "metadata": {},
     "output_type": "display_data"
    }
   ],
   "source": [
    "fig, axes = plt.subplots(figsize=(11,11),nrows=2, ncols=3)\n",
    "ax1=plt.subplot(2,3,1)\n",
    "\n",
    "colors=['b', 'g', 'r', 'c', 'm', 'k']\n",
    "\n",
    "metricsDF[\"MAPE\"].plot(ax=axes[0,0], kind='bar', grid=True, title= 'MAPE', color=colors[0] )\n",
    "metricsDF[\"SMAPE\"].plot(ax=axes[0,1], kind='bar', grid=True, title= 'SMAPE' , color=colors[1])\n",
    "metricsDF[\"MSLE\"].plot(ax=axes[0,2], kind='bar', grid=True, title= 'MSLE', color=colors[2])\n",
    "metricsDF[\"MSE\"].plot(ax=axes[1,0], kind='bar', grid=True, title ='MSE', color=colors[3])\n",
    "metricsDF[\"MAE\"].plot(ax=axes[1,1], kind='bar', grid=True, title ='MAE', color=colors[4])\n",
    "metricsDF[\"R2\"].plot(ax=axes[1,2], kind='bar', grid=True, title ='R2', color=colors[5])\n",
    "\n",
    "\n",
    "ax1.grid(True)\n"
   ]
  },
  {
   "cell_type": "markdown",
   "metadata": {},
   "source": [
    "#Optimalization"
   ]
  },
  {
   "cell_type": "code",
   "execution_count": 16,
   "metadata": {},
   "outputs": [],
   "source": [
    "metrics2 = pd.DataFrame(create_metrics_tag())\n",
    "\n",
    "models={}\n",
    "\n",
    "name='RF with weight '\n",
    "model= RandomForestRegressor(n_estimators = 1089, max_depth=29, min_samples_leaf=12, random_state=1, max_features=7)\n",
    "dropCols=['multiplier', 'senility']\n",
    "models[name]=getModelDIc( model, dropCols, True)\n",
    "\n",
    "name='XGBR with added'\n",
    "model = XGBRegressor(seed=0, learning_rate=  0.02754445567920848, max_depth= 3, n_estimators= 164)\n",
    "dropCols=[]\n",
    "models[name]=getModelDIc( model, dropCols, True)   \n",
    "\n",
    "name='XGBR without added'\n",
    "model = XGBRegressor(seed=0, learning_rate=  0.02754445567920848, max_depth= 3, n_estimators= 164)\n",
    "dropCols=['multiplier', 'senility', 'weight']\n",
    "models[name]=getModelDIc( model, dropCols, True)  \n",
    "\n",
    "name='XGBR with multiplier'\n",
    "model = XGBRegressor(seed=0, learning_rate=  0.02754445567920848, max_depth= 3, n_estimators= 164)\n",
    "dropCols=['weight']\n",
    "models[name]=getModelDIc( model, dropCols, True)  \n",
    "\n",
    "\n",
    "name='XGBR with senility'\n",
    "model = XGBRegressor(seed=0, learning_rate=  0.02754445567920848, max_depth= 3, n_estimators= 164)\n",
    "dropCols=['multiplier','weight']\n",
    "models[name]=getModelDIc( model, dropCols, True)  \n",
    "\n",
    "name='XGBR with multiplier'\n",
    "model = XGBRegressor(seed=0, learning_rate=  0.02754445567920848, max_depth= 3, n_estimators= 164)\n",
    "dropCols=['senility', 'weight']\n",
    "models[name]=getModelDIc( model, dropCols, True)  \n",
    "\n",
    "\n",
    "\n",
    "for modelN in models:\n",
    "\n",
    "    X_train_, X_test_, y_train_, y_test_= X_train, X_test, y_train, y_test\n",
    "    model=models[modelN]['model']\n",
    "    if(models[modelN]['powerTransform']):\n",
    "        y_train_=np.log1p(y_train_)\n",
    "    if(models[modelN]['drop']):\n",
    "        X_train_=X_train_.drop(models[modelN]['drop'], axis=1)\n",
    "        X_test_=X_test_.drop(models[modelN]['drop'], axis=1)\n",
    "    model.fit(X_train_, y_train_)\n",
    "\n",
    "    y_pred= model.predict(X_test_)\n",
    "    y_pred=np.where(y_pred>0, y_pred,0 )\n",
    "    if(models[modelN]['powerTransform']):\n",
    "        y_pred=np.expm1(y_pred)\n",
    "    \n",
    "    metric=get_metrics(y_test_, y_pred, modelN)\n",
    "    metrics2 = pd.concat([metrics2, metric]).reset_index(drop=True)"
   ]
  },
  {
   "cell_type": "code",
   "execution_count": 17,
   "metadata": {},
   "outputs": [
    {
     "data": {
      "text/html": [
       "<style type=\"text/css\">\n",
       "#T_2f10a_row2_col0, #T_2f10a_row2_col1, #T_2f10a_row2_col2, #T_2f10a_row2_col3, #T_2f10a_row2_col4, #T_2f10a_row2_col5, #T_2f10a_row2_col6, #T_2f10a_row4_col0, #T_2f10a_row4_col1, #T_2f10a_row4_col2, #T_2f10a_row4_col3, #T_2f10a_row4_col4, #T_2f10a_row4_col5, #T_2f10a_row4_col6 {\n",
       "  background-color: green;\n",
       "}\n",
       "</style>\n",
       "<table id=\"T_2f10a\">\n",
       "  <thead>\n",
       "    <tr>\n",
       "      <th class=\"blank level0\" >&nbsp;</th>\n",
       "      <th id=\"T_2f10a_level0_col0\" class=\"col_heading level0 col0\" >Specific</th>\n",
       "      <th id=\"T_2f10a_level0_col1\" class=\"col_heading level0 col1\" >MAPE</th>\n",
       "      <th id=\"T_2f10a_level0_col2\" class=\"col_heading level0 col2\" >SMAPE</th>\n",
       "      <th id=\"T_2f10a_level0_col3\" class=\"col_heading level0 col3\" >MSLE</th>\n",
       "      <th id=\"T_2f10a_level0_col4\" class=\"col_heading level0 col4\" >MSE</th>\n",
       "      <th id=\"T_2f10a_level0_col5\" class=\"col_heading level0 col5\" >MAE</th>\n",
       "      <th id=\"T_2f10a_level0_col6\" class=\"col_heading level0 col6\" >R2</th>\n",
       "    </tr>\n",
       "  </thead>\n",
       "  <tbody>\n",
       "    <tr>\n",
       "      <th id=\"T_2f10a_level0_row0\" class=\"row_heading level0 row0\" >0</th>\n",
       "      <td id=\"T_2f10a_row0_col0\" class=\"data row0 col0\" >RF with weight </td>\n",
       "      <td id=\"T_2f10a_row0_col1\" class=\"data row0 col1\" >0.165470</td>\n",
       "      <td id=\"T_2f10a_row0_col2\" class=\"data row0 col2\" >17.690956</td>\n",
       "      <td id=\"T_2f10a_row0_col3\" class=\"data row0 col3\" >0.122800</td>\n",
       "      <td id=\"T_2f10a_row0_col4\" class=\"data row0 col4\" >18836798.405489</td>\n",
       "      <td id=\"T_2f10a_row0_col5\" class=\"data row0 col5\" >2034.167026</td>\n",
       "      <td id=\"T_2f10a_row0_col6\" class=\"data row0 col6\" >0.878667</td>\n",
       "    </tr>\n",
       "    <tr>\n",
       "      <th id=\"T_2f10a_level0_row1\" class=\"row_heading level0 row1\" >1</th>\n",
       "      <td id=\"T_2f10a_row1_col0\" class=\"data row1 col0\" >XGBR with added</td>\n",
       "      <td id=\"T_2f10a_row1_col1\" class=\"data row1 col1\" >0.157065</td>\n",
       "      <td id=\"T_2f10a_row1_col2\" class=\"data row1 col2\" >17.637683</td>\n",
       "      <td id=\"T_2f10a_row1_col3\" class=\"data row1 col3\" >0.130161</td>\n",
       "      <td id=\"T_2f10a_row1_col4\" class=\"data row1 col4\" >26304959.959414</td>\n",
       "      <td id=\"T_2f10a_row1_col5\" class=\"data row1 col5\" >2424.979979</td>\n",
       "      <td id=\"T_2f10a_row1_col6\" class=\"data row1 col6\" >0.830562</td>\n",
       "    </tr>\n",
       "    <tr>\n",
       "      <th id=\"T_2f10a_level0_row2\" class=\"row_heading level0 row2\" >2</th>\n",
       "      <td id=\"T_2f10a_row2_col0\" class=\"data row2 col0\" >XGBR without added</td>\n",
       "      <td id=\"T_2f10a_row2_col1\" class=\"data row2 col1\" >0.147317</td>\n",
       "      <td id=\"T_2f10a_row2_col2\" class=\"data row2 col2\" >16.879960</td>\n",
       "      <td id=\"T_2f10a_row2_col3\" class=\"data row2 col3\" >0.129286</td>\n",
       "      <td id=\"T_2f10a_row2_col4\" class=\"data row2 col4\" >26121518.765709</td>\n",
       "      <td id=\"T_2f10a_row2_col5\" class=\"data row2 col5\" >2378.140191</td>\n",
       "      <td id=\"T_2f10a_row2_col6\" class=\"data row2 col6\" >0.831744</td>\n",
       "    </tr>\n",
       "    <tr>\n",
       "      <th id=\"T_2f10a_level0_row3\" class=\"row_heading level0 row3\" >3</th>\n",
       "      <td id=\"T_2f10a_row3_col0\" class=\"data row3 col0\" >XGBR with multiplier</td>\n",
       "      <td id=\"T_2f10a_row3_col1\" class=\"data row3 col1\" >0.157065</td>\n",
       "      <td id=\"T_2f10a_row3_col2\" class=\"data row3 col2\" >17.637683</td>\n",
       "      <td id=\"T_2f10a_row3_col3\" class=\"data row3 col3\" >0.130161</td>\n",
       "      <td id=\"T_2f10a_row3_col4\" class=\"data row3 col4\" >26304959.959414</td>\n",
       "      <td id=\"T_2f10a_row3_col5\" class=\"data row3 col5\" >2424.979979</td>\n",
       "      <td id=\"T_2f10a_row3_col6\" class=\"data row3 col6\" >0.830562</td>\n",
       "    </tr>\n",
       "    <tr>\n",
       "      <th id=\"T_2f10a_level0_row4\" class=\"row_heading level0 row4\" >4</th>\n",
       "      <td id=\"T_2f10a_row4_col0\" class=\"data row4 col0\" >XGBR with senility</td>\n",
       "      <td id=\"T_2f10a_row4_col1\" class=\"data row4 col1\" >0.147317</td>\n",
       "      <td id=\"T_2f10a_row4_col2\" class=\"data row4 col2\" >16.879960</td>\n",
       "      <td id=\"T_2f10a_row4_col3\" class=\"data row4 col3\" >0.129286</td>\n",
       "      <td id=\"T_2f10a_row4_col4\" class=\"data row4 col4\" >26121518.765709</td>\n",
       "      <td id=\"T_2f10a_row4_col5\" class=\"data row4 col5\" >2378.140191</td>\n",
       "      <td id=\"T_2f10a_row4_col6\" class=\"data row4 col6\" >0.831744</td>\n",
       "    </tr>\n",
       "  </tbody>\n",
       "</table>\n"
      ],
      "text/plain": [
       "<pandas.io.formats.style.Styler at 0x1db2e445030>"
      ]
     },
     "metadata": {},
     "output_type": "display_data"
    }
   ],
   "source": [
    "color = (metrics2.MAPE<0.15).map({True: 'background-color: green', False: ''})\n",
    "display(metrics2.style.apply(lambda s: color))"
   ]
  },
  {
   "cell_type": "code",
   "execution_count": 18,
   "metadata": {},
   "outputs": [],
   "source": [
    "metricsDF2= metrics2.set_index('Specific')\n",
    "metricNames2=metricsDF2.columns\n",
    "modelNames2=metricsDF2.index"
   ]
  },
  {
   "cell_type": "code",
   "execution_count": 21,
   "metadata": {},
   "outputs": [
    {
     "data": {
      "image/png": "[encoded data removed]",
      "text/plain": [
       "<Figure size 1000x1000 with 6 Axes>"
      ]
     },
     "metadata": {},
     "output_type": "display_data"
    }
   ],
   "source": [
    "fig, axes = plt.subplots(figsize=(10,10),nrows=2, ncols=3)\n",
    "ax1=plt.subplot(2,3,1)\n",
    "\n",
    "colors=['b', 'y', 'r', 'c', 'm', 'k']\n",
    "\n",
    "highlight = 'XGBR without added'\n",
    "pos = metricsDF2.index.get_loc(highlight)\n",
    "\n",
    "metricsDF2[\"MAPE\"].plot(ax=axes[0,0], kind='bar', grid=True, title= 'MAPE', color=colors[0] )\n",
    "metricsDF2[\"SMAPE\"].plot(ax=axes[0,1], kind='bar', grid=True, title= 'SMAPE' , color=colors[1])\n",
    "metricsDF2[\"MSLE\"].plot(ax=axes[0,2], kind='bar', grid=True, title= 'MSLE', color=colors[2])\n",
    "metricsDF2[\"MSE\"].plot(ax=axes[1,0], kind='bar', grid=True, title ='MSE', color=colors[3])\n",
    "metricsDF2[\"MAE\"].plot(ax=axes[1,1], kind='bar', grid=True, title ='MAE', color=colors[4])\n",
    "metricsDF2[\"R2\"].plot(ax=axes[1,2], kind='bar', grid=True, title ='R2', color=colors[5])\n",
    "\n",
    "\n",
    "axes[0,0].patches[pos].set_facecolor('g')\n",
    "axes[0,1].patches[pos].set_facecolor('g')\n",
    "axes[0,2].patches[pos].set_facecolor('g')\n",
    "axes[1,0].patches[pos].set_facecolor('g')\n",
    "axes[1,1].patches[pos].set_facecolor('g')\n",
    "axes[1,2].patches[pos].set_facecolor('g')\n",
    "\n",
    "ax1.grid(True)\n"
   ]
  },
  {
   "cell_type": "markdown",
   "metadata": {},
   "source": [
    "#Feature Importances"
   ]
  },
  {
   "cell_type": "code",
   "execution_count": 22,
   "metadata": {},
   "outputs": [
    {
     "data": {
      "text/html": [
       "<div>\n",
       "<style scoped>\n",
       "    .dataframe tbody tr th:only-of-type {\n",
       "        vertical-align: middle;\n",
       "    }\n",
       "\n",
       "    .dataframe tbody tr th {\n",
       "        vertical-align: top;\n",
       "    }\n",
       "\n",
       "    .dataframe thead th {\n",
       "        text-align: right;\n",
       "    }\n",
       "</style>\n",
       "<table border=\"1\" class=\"dataframe\">\n",
       "  <thead>\n",
       "    <tr style=\"text-align: right;\">\n",
       "      <th></th>\n",
       "      <th>age</th>\n",
       "      <th>sex</th>\n",
       "      <th>bmi</th>\n",
       "      <th>children</th>\n",
       "      <th>smoker</th>\n",
       "      <th>region</th>\n",
       "      <th>senility</th>\n",
       "    </tr>\n",
       "  </thead>\n",
       "  <tbody>\n",
       "    <tr>\n",
       "      <th>0</th>\n",
       "      <td>0.011137</td>\n",
       "      <td>0.03645</td>\n",
       "      <td>0.269871</td>\n",
       "      <td>0.019506</td>\n",
       "      <td>0.648172</td>\n",
       "      <td>0.014864</td>\n",
       "      <td>0.0</td>\n",
       "    </tr>\n",
       "  </tbody>\n",
       "</table>\n",
       "</div>"
      ],
      "text/plain": [
       "        age      sex       bmi  children    smoker    region  senility\n",
       "0  0.011137  0.03645  0.269871  0.019506  0.648172  0.014864       0.0"
      ]
     },
     "metadata": {},
     "output_type": "display_data"
    },
    {
     "data": {
      "text/plain": [
       "<Axes: >"
      ]
     },
     "execution_count": 22,
     "metadata": {},
     "output_type": "execute_result"
    },
    {
     "data": {
      "image/png": "[encoded data removed]",
      "text/plain": [
       "<Figure size 640x480 with 1 Axes>"
      ]
     },
     "metadata": {},
     "output_type": "display_data"
    }
   ],
   "source": [
    "metrics2 = pd.DataFrame(create_metrics_tag())\n",
    "\n",
    "models={}\n",
    "\n",
    "name='XGBR with sensilty'\n",
    "modelN = XGBRegressor(seed=66, learning_rate=  0.02754445567920848, max_depth= 3, n_estimators= 164)\n",
    "dropCols=['multiplier','weight' ]\n",
    "models[name]=getModelDIc( modelN, dropCols, True)  \n",
    "\n",
    "for modelN in models:\n",
    "\n",
    "    X_train_, X_test_, y_train_, y_test_= X_train, X_test, y_train, y_test\n",
    "    model=models[modelN]['model']\n",
    "    if(models[modelN]['powerTransform']):\n",
    "        y_train_=np.log1p(y_train_)\n",
    "    if(models[modelN]['drop']):\n",
    "        X_train_=X_train_.drop(models[modelN]['drop'], axis=1)\n",
    "        X_test_=X_test_.drop(models[modelN]['drop'], axis=1)\n",
    "    model.fit(X_train_, y_train_)\n",
    "    y_pred= model.predict(X_test_)\n",
    "    y_pred=np.where(y_pred>0, y_pred,0 )\n",
    "    if(models[modelN]['powerTransform']):\n",
    "        y_pred=np.expm1(y_pred)\n",
    "    \n",
    "    metric=get_metrics(y_test_, y_pred, modelN)\n",
    "    metrics2 = pd.concat([metrics2, metric]).reset_index(drop=True)\n",
    "    importances = model.named_steps[\"classifier\"].feature_importances_\n",
    "\n",
    "\n",
    "columns= X_train.columns\n",
    "columns = [i for i in columns if i not in dropCols]\n",
    "\n",
    "dfimportances=pd.DataFrame(data=importances.reshape(1,9- len(dropCols)), columns= columns)\n",
    "display(dfimportances)\n",
    "\n",
    "\n",
    "dfimportances.plot.bar()\n"
   ]
  },
  {
   "cell_type": "code",
   "execution_count": 24,
   "metadata": {},
   "outputs": [],
   "source": [
    "\n",
    "models={}\n",
    "\n",
    "name='XGBR'\n",
    "modelN = XGBRegressor(seed=66, learning_rate=  0.02754445567920848, max_depth= 3, n_estimators= 164)\n",
    "dropCols=['multiplier','weight' ,'senility']\n",
    "models[name]=getModelDIc( modelN, dropCols, True)  \n",
    "\n",
    "for modelN in models:\n",
    "\n",
    "    X_train_, X_test_, y_train_, y_test_= X_train, X_test, y_train, y_test\n",
    "    model=models[modelN]['model']\n",
    "    if(models[modelN]['powerTransform']):\n",
    "        y_train_=np.log1p(y_train_)\n",
    "    if(models[modelN]['drop']):\n",
    "        X_train_=X_train_.drop(models[modelN]['drop'], axis=1)\n",
    "        X_test_=X_test_.drop(models[modelN]['drop'], axis=1)\n",
    "    model.fit(X_train_, y_train_)\n",
    "    y_pred= model.predict(X_test_)\n",
    "    y_pred=np.where(y_pred>0, y_pred,0 )\n",
    "    if(models[modelN]['powerTransform']):\n",
    "        y_pred=np.expm1(y_pred)\n"
   ]
  },
  {
   "cell_type": "markdown",
   "metadata": {},
   "source": [
    "## Creating predictions"
   ]
  },
  {
   "cell_type": "code",
   "execution_count": 25,
   "metadata": {},
   "outputs": [],
   "source": [
    "\n",
    "\n",
    "columns= X_train.columns\n",
    "columns = [i for i in columns if i not in dropCols]\n",
    "\n",
    "Trials= pd.DataFrame(columns=columns )\n",
    "\n",
    "\n"
   ]
  },
  {
   "cell_type": "code",
   "execution_count": 26,
   "metadata": {},
   "outputs": [
    {
     "data": {
      "text/html": [
       "<div>\n",
       "<style scoped>\n",
       "    .dataframe tbody tr th:only-of-type {\n",
       "        vertical-align: middle;\n",
       "    }\n",
       "\n",
       "    .dataframe tbody tr th {\n",
       "        vertical-align: top;\n",
       "    }\n",
       "\n",
       "    .dataframe thead th {\n",
       "        text-align: right;\n",
       "    }\n",
       "</style>\n",
       "<table border=\"1\" class=\"dataframe\">\n",
       "  <thead>\n",
       "    <tr style=\"text-align: right;\">\n",
       "      <th></th>\n",
       "      <th>age</th>\n",
       "      <th>sex</th>\n",
       "      <th>bmi</th>\n",
       "      <th>children</th>\n",
       "      <th>smoker</th>\n",
       "      <th>region</th>\n",
       "      <th>charges</th>\n",
       "    </tr>\n",
       "  </thead>\n",
       "  <tbody>\n",
       "    <tr>\n",
       "      <th>0</th>\n",
       "      <td>24</td>\n",
       "      <td>male</td>\n",
       "      <td>23</td>\n",
       "      <td>1</td>\n",
       "      <td>yes</td>\n",
       "      <td>southeast</td>\n",
       "      <td>17498.189453</td>\n",
       "    </tr>\n",
       "    <tr>\n",
       "      <th>1</th>\n",
       "      <td>35</td>\n",
       "      <td>female</td>\n",
       "      <td>33</td>\n",
       "      <td>2</td>\n",
       "      <td>no</td>\n",
       "      <td>northwest</td>\n",
       "      <td>6313.360352</td>\n",
       "    </tr>\n",
       "    <tr>\n",
       "      <th>2</th>\n",
       "      <td>59</td>\n",
       "      <td>female</td>\n",
       "      <td>25</td>\n",
       "      <td>1</td>\n",
       "      <td>no</td>\n",
       "      <td>southeast</td>\n",
       "      <td>13323.583008</td>\n",
       "    </tr>\n",
       "    <tr>\n",
       "      <th>3</th>\n",
       "      <td>63</td>\n",
       "      <td>male</td>\n",
       "      <td>30</td>\n",
       "      <td>2</td>\n",
       "      <td>yes</td>\n",
       "      <td>northwest</td>\n",
       "      <td>36334.214844</td>\n",
       "    </tr>\n",
       "  </tbody>\n",
       "</table>\n",
       "</div>"
      ],
      "text/plain": [
       "  age     sex bmi children smoker     region       charges\n",
       "0  24    male  23        1    yes  southeast  17498.189453\n",
       "1  35  female  33        2     no  northwest   6313.360352\n",
       "2  59  female  25        1     no  southeast  13323.583008\n",
       "3  63    male  30        2    yes  northwest  36334.214844"
      ]
     },
     "execution_count": 26,
     "metadata": {},
     "output_type": "execute_result"
    }
   ],
   "source": [
    "lists=[]\n",
    "lists.append( [24, 'male', 23, 1, 'yes', 'southeast'])\n",
    "lists.append([35, 'female', 33, 2, 'no', 'northwest'])\n",
    "lists.append( [59, 'female', 25, 1, 'no', 'southeast'])\n",
    "lists.append([63, 'male', 30, 2, 'yes', 'northwest'])\n",
    "\n",
    "for list in lists:\n",
    "    Trials= pd.concat([Trials,pd.DataFrame([list], columns= columns)],ignore_index= True  )\n",
    "\n",
    "y_pred= model.predict(Trials)\n",
    "y_pred=np.where(y_pred>0, y_pred,0 )\n",
    "y_pred=np.expm1(y_pred)\n",
    "\n",
    "Trials['charges']= y_pred\n",
    "Trials\n",
    "\n"
   ]
  },
  {
   "cell_type": "markdown",
   "metadata": {},
   "source": [
    "# END OF PRESENTATION\n",
    "\n",
    "\n",
    "\n",
    "### RandomSearchGrid"
   ]
  },
  {
   "cell_type": "code",
   "execution_count": 28,
   "metadata": {},
   "outputs": [],
   "source": [
    "with open(r'xgb_medical_cost_model.pickle', 'wb') as f:\n",
    "    pickle.dump(model, f)"
   ]
  },
  {
   "cell_type": "code",
   "execution_count": null,
   "metadata": {},
   "outputs": [],
   "source": [
    "\n",
    "space_rf = {\"max_depth\": hp.randint('max_depth', 1, 100),\n",
    "             \"n_estimators\": scope.int(hp.qloguniform('n_estimators', 1, 10, 1)),\n",
    "             \"min_samples_leaf\": hp.randint('min_samples_leaf', 1, 50),\n",
    "             \"max_features\": hp.choice('max_features', ['sqrt', 2, 3, 4, 5, 6, 7, 8]),\n",
    "             }\n",
    "def minimize_rf(params):\n",
    "    max_depth = params[\"max_depth\"]\n",
    "    max_features = params['max_features']\n",
    "    min_samples = params['min_samples_leaf']\n",
    "    n_estimators = int(params['n_estimators'])\n",
    "    model = getPipe(RandomForestRegressor(max_depth=max_depth, max_features=max_features, min_samples_leaf=min_samples, n_estimators=n_estimators))\n",
    "    mean_cv_score = np.mean(cross_val_score(model, X_train, y_train))\n",
    "    return -mean_cv_score\n"
   ]
  },
  {
   "cell_type": "code",
   "execution_count": null,
   "metadata": {},
   "outputs": [],
   "source": [
    "best_rf = fmin(minimize_rf, space_rf, max_evals=20, algo=tpe.suggest)\n",
    "best_rf"
   ]
  },
  {
   "cell_type": "code",
   "execution_count": null,
   "metadata": {},
   "outputs": [],
   "source": [
    "#best_rf_regressor = RandomForestRegressor(n_estimators = 365, max_depth=47, min_samples_leaf=6, random_state=1)\n",
    "{'max_depth': 47,\n",
    " 'max_features': 5,\n",
    " 'min_samples_leaf': 12,\n",
    " 'n_estimators': 2639.0}\n",
    "\n",
    "model = RandomForestRegressor(n_estimators = 2639, max_depth=47, min_samples_leaf=12, random_state=1, max_features=5)\n",
    "best_rf_regressor = getPipe(model)\n",
    "best_rf_regressor.fit(X_train, y_train)\n",
    "y_pred_best = best_rf_regressor.predict(X_test)\n",
    "r2_score(y_test, y_pred_best)"
   ]
  },
  {
   "cell_type": "code",
   "execution_count": null,
   "metadata": {},
   "outputs": [],
   "source": [
    "importances = best_rf_regressor.named_steps[\"classifier\"].feature_importances_\n",
    "\n",
    "\n",
    "pd.DataFrame(data=importances.reshape(1,9), columns= X_train.columns)"
   ]
  },
  {
   "cell_type": "markdown",
   "metadata": {},
   "source": [
    "#Hyperopt XGBoost"
   ]
  },
  {
   "cell_type": "code",
   "execution_count": null,
   "metadata": {},
   "outputs": [],
   "source": [
    "\n",
    "\n",
    "space={'max_depth': hp.quniform(\"max_depth\", 3, 18, 1),\n",
    "        'gamma': hp.uniform ('gamma', 1,9),\n",
    "        'reg_alpha' : hp.quniform('reg_alpha', 40,180,1),\n",
    "        'reg_lambda' : hp.uniform('reg_lambda', 0,1),\n",
    "        'colsample_bytree' : hp.uniform('colsample_bytree', 0.5,1),\n",
    "        'min_child_weight' : hp.quniform('min_child_weight', 0, 10, 1),\n",
    "        'n_estimators': hp.quniform(\"n_estimators\", 3, 18, 1),\n",
    "    }"
   ]
  },
  {
   "cell_type": "code",
   "execution_count": null,
   "metadata": {},
   "outputs": [],
   "source": [
    "space = {\n",
    "    'learning_rate': hp.uniform('learning_rate', 0.001, 0.3),\n",
    "    'max_depth': scope.int(hp.quniform(\"max_depth\", 3, 18, 1)),\n",
    "    'gamma': scope.int(hp.uniform ('gamma', 1,9)),\n",
    "    'reg_alpha' : scope.int(hp.quniform('reg_alpha', 40,180,1)),\n",
    "    'reg_lambda' : hp.uniform('reg_lambda', 0,1),\n",
    "    'colsample_bytree' : hp.uniform('colsample_bytree', 0.5,1),\n",
    "     'min_child_weight' : scope.int(hp.quniform('min_child_weight', 0, 10, 1)),\n",
    "    'n_estimators': scope.int(hp.quniform(\"n_estimators\", 3, 18, 1))\n",
    "}\n",
    "\n",
    "\n"
   ]
  },
  {
   "cell_type": "code",
   "execution_count": null,
   "metadata": {},
   "outputs": [],
   "source": [
    "def objective(params):\n",
    "    \n",
    "    xgboost = XGBRegressor(seed=0, **params)\n",
    "    score = cross_val_score(estimator=xgboost, \n",
    "                            X=X_trains, \n",
    "                            y=y_train, \n",
    "                            cv=3, \n",
    "                            n_jobs=-1).mean()\n",
    "    # Loss is negative score\n",
    "    loss = - score\n",
    "    # Dictionary with information for evaluation\n",
    "    return {'loss': loss, 'params': params, 'status': STATUS_OK}\n",
    "\n",
    "best = fmin(fn = objective, space = space, algo = tpe.suggest, max_evals = 60, trials = Trials())\n"
   ]
  },
  {
   "cell_type": "code",
   "execution_count": null,
   "metadata": {},
   "outputs": [],
   "source": [
    "print(space_eval(space, best))\n"
   ]
  },
  {
   "cell_type": "code",
   "execution_count": null,
   "metadata": {},
   "outputs": [],
   "source": [
    "xgboost_bo = XGBRegressor(seed=0, \n",
    "                           learning_rate=space_eval(space, best)['learning_rate'], \n",
    "                           max_depth=space_eval(space, best)['max_depth'], \n",
    "                           n_estimators=space_eval(space, best)['n_estimators'],\n",
    "                           ).fit(X_trains,y_train)\n",
    "# Make prediction using the best model\n",
    "bayesian_opt_predict = xgboost_bo.predict(X_tests)\n",
    "# Get performance metrics\n",
    "f1s = mean_squared_error(y_test, bayesian_opt_predict)\n",
    "# Print result\n",
    "print(f'The f1  value for the xgboost Bayesian optimization is {f1s:.4f}')\n",
    "\n",
    "xgboost_bo.score(X_tests, y_test)"
   ]
  }
 ],
 "metadata": {
  "kernelspec": {
   "display_name": "Python 3 (ipykernel)",
   "language": "python",
   "name": "python3"
  },
  "language_info": {
   "codemirror_mode": {
    "name": "ipython",
    "version": 3
   },
   "file_extension": ".py",
   "mimetype": "text/x-python",
   "name": "python",
   "nbconvert_exporter": "python",
   "pygments_lexer": "ipython3",
   "version": "3.10.9"
  }
 },
 "nbformat": 4,
 "nbformat_minor": 2
}
